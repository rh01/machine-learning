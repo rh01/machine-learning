{
 "cells": [
  {
   "cell_type": "markdown",
   "metadata": {},
   "source": [
    "# Predicting sentiment from product reviews\n",
    "\n",
    "\n",
    "The goal of this first notebook is to explore logistic regression and feature engineering with existing GraphLab functions.\n",
    "\n",
    "In this notebook you will use product review data from Amazon.com to predict whether the sentiments about a product (from its reviews) are positive or negative.\n",
    "\n",
    "* Use SFrames to do some feature engineering\n",
    "* Train a logistic regression model to predict the sentiment of product reviews.\n",
    "* Inspect the weights (coefficients) of a trained logistic regression model.\n",
    "* Make a prediction (both class and probability) of sentiment for a new product review.\n",
    "* Given the logistic regression weights, predictors and ground truth labels, write a function to compute the **accuracy** of the model.\n",
    "* Inspect the coefficients of the logistic regression model and interpret their meanings.\n",
    "* Compare multiple logistic regression models.\n",
    "\n",
    "Let's get started!\n",
    "    \n",
    "## Fire up GraphLab Create"
   ]
  },
  {
   "cell_type": "markdown",
   "metadata": {},
   "source": [
    "Make sure you have the latest version of GraphLab Create."
   ]
  },
  {
   "cell_type": "code",
   "execution_count": 1,
   "metadata": {
    "collapsed": false
   },
   "outputs": [
    {
     "name": "stderr",
     "output_type": "stream",
     "text": [
      "A newer version of GraphLab Create (v1.8.5) is available! Your current version is v1.8.1.\n",
      "\n",
      "You can use pip to upgrade the graphlab-create package. For more information see https://dato.com/products/create/upgrade.\n"
     ]
    }
   ],
   "source": [
    "from __future__ import division\n",
    "import graphlab\n",
    "import math\n",
    "import string"
   ]
  },
  {
   "cell_type": "markdown",
   "metadata": {},
   "source": [
    "# Data preperation\n",
    "\n",
    "We will use a dataset consisting of baby product reviews on Amazon.com."
   ]
  },
  {
   "cell_type": "code",
   "execution_count": 2,
   "metadata": {
    "collapsed": false
   },
   "outputs": [
    {
     "name": "stderr",
     "output_type": "stream",
     "text": [
      "[INFO] This non-commercial license of GraphLab Create is assigned to heng960509@outlook.com and will expire on February 06, 2017. For commercial licensing options, visit https://dato.com/buy/.\n",
      "\n",
      "[INFO] Start server at: ipc:///tmp/graphlab_server-976 - Server binary: E:\\Anaconda2\\envs\\dato-env\\lib\\site-packages\\graphlab\\unity_server.exe - Server log: C:\\Users\\ADMINI~1\\AppData\\Local\\Temp\\graphlab_server_1460357624.log.0\n",
      "[INFO] GraphLab Server Version: 1.8.1\n"
     ]
    }
   ],
   "source": [
    "products = graphlab.SFrame('amazon_baby.gl/')"
   ]
  },
  {
   "cell_type": "markdown",
   "metadata": {},
   "source": [
    "Now, let us see a preview of what the dataset looks like."
   ]
  },
  {
   "cell_type": "code",
   "execution_count": 3,
   "metadata": {
    "collapsed": false
   },
   "outputs": [
    {
     "data": {
      "text/html": [
       "<div style=\"max-height:1000px;max-width:1500px;overflow:auto;\"><table frame=\"box\" rules=\"cols\">\n",
       "    <tr>\n",
       "        <th style=\"padding-left: 1em; padding-right: 1em; text-align: center\">name</th>\n",
       "        <th style=\"padding-left: 1em; padding-right: 1em; text-align: center\">review</th>\n",
       "        <th style=\"padding-left: 1em; padding-right: 1em; text-align: center\">rating</th>\n",
       "    </tr>\n",
       "    <tr>\n",
       "        <td style=\"padding-left: 1em; padding-right: 1em; text-align: center; vertical-align: top\">Planetwise Flannel Wipes</td>\n",
       "        <td style=\"padding-left: 1em; padding-right: 1em; text-align: center; vertical-align: top\">These flannel wipes are<br>OK, but in my opinion ...</td>\n",
       "        <td style=\"padding-left: 1em; padding-right: 1em; text-align: center; vertical-align: top\">3.0</td>\n",
       "    </tr>\n",
       "    <tr>\n",
       "        <td style=\"padding-left: 1em; padding-right: 1em; text-align: center; vertical-align: top\">Planetwise Wipe Pouch</td>\n",
       "        <td style=\"padding-left: 1em; padding-right: 1em; text-align: center; vertical-align: top\">it came early and was not<br>disappointed. i love ...</td>\n",
       "        <td style=\"padding-left: 1em; padding-right: 1em; text-align: center; vertical-align: top\">5.0</td>\n",
       "    </tr>\n",
       "    <tr>\n",
       "        <td style=\"padding-left: 1em; padding-right: 1em; text-align: center; vertical-align: top\">Annas Dream Full Quilt<br>with 2 Shams ...</td>\n",
       "        <td style=\"padding-left: 1em; padding-right: 1em; text-align: center; vertical-align: top\">Very soft and comfortable<br>and warmer than it ...</td>\n",
       "        <td style=\"padding-left: 1em; padding-right: 1em; text-align: center; vertical-align: top\">5.0</td>\n",
       "    </tr>\n",
       "    <tr>\n",
       "        <td style=\"padding-left: 1em; padding-right: 1em; text-align: center; vertical-align: top\">Stop Pacifier Sucking<br>without tears with ...</td>\n",
       "        <td style=\"padding-left: 1em; padding-right: 1em; text-align: center; vertical-align: top\">This is a product well<br>worth the purchase.  I ...</td>\n",
       "        <td style=\"padding-left: 1em; padding-right: 1em; text-align: center; vertical-align: top\">5.0</td>\n",
       "    </tr>\n",
       "    <tr>\n",
       "        <td style=\"padding-left: 1em; padding-right: 1em; text-align: center; vertical-align: top\">Stop Pacifier Sucking<br>without tears with ...</td>\n",
       "        <td style=\"padding-left: 1em; padding-right: 1em; text-align: center; vertical-align: top\">All of my kids have cried<br>non-stop when I tried to ...</td>\n",
       "        <td style=\"padding-left: 1em; padding-right: 1em; text-align: center; vertical-align: top\">5.0</td>\n",
       "    </tr>\n",
       "    <tr>\n",
       "        <td style=\"padding-left: 1em; padding-right: 1em; text-align: center; vertical-align: top\">Stop Pacifier Sucking<br>without tears with ...</td>\n",
       "        <td style=\"padding-left: 1em; padding-right: 1em; text-align: center; vertical-align: top\">When the Binky Fairy came<br>to our house, we didn't ...</td>\n",
       "        <td style=\"padding-left: 1em; padding-right: 1em; text-align: center; vertical-align: top\">5.0</td>\n",
       "    </tr>\n",
       "    <tr>\n",
       "        <td style=\"padding-left: 1em; padding-right: 1em; text-align: center; vertical-align: top\">A Tale of Baby's Days<br>with Peter Rabbit ...</td>\n",
       "        <td style=\"padding-left: 1em; padding-right: 1em; text-align: center; vertical-align: top\">Lovely book, it's bound<br>tightly so you may no ...</td>\n",
       "        <td style=\"padding-left: 1em; padding-right: 1em; text-align: center; vertical-align: top\">4.0</td>\n",
       "    </tr>\n",
       "    <tr>\n",
       "        <td style=\"padding-left: 1em; padding-right: 1em; text-align: center; vertical-align: top\">Baby Tracker&amp;reg; - Daily<br>Childcare Journal, ...</td>\n",
       "        <td style=\"padding-left: 1em; padding-right: 1em; text-align: center; vertical-align: top\">Perfect for new parents.<br>We were able to keep ...</td>\n",
       "        <td style=\"padding-left: 1em; padding-right: 1em; text-align: center; vertical-align: top\">5.0</td>\n",
       "    </tr>\n",
       "    <tr>\n",
       "        <td style=\"padding-left: 1em; padding-right: 1em; text-align: center; vertical-align: top\">Baby Tracker&amp;reg; - Daily<br>Childcare Journal, ...</td>\n",
       "        <td style=\"padding-left: 1em; padding-right: 1em; text-align: center; vertical-align: top\">A friend of mine pinned<br>this product on Pinte ...</td>\n",
       "        <td style=\"padding-left: 1em; padding-right: 1em; text-align: center; vertical-align: top\">5.0</td>\n",
       "    </tr>\n",
       "    <tr>\n",
       "        <td style=\"padding-left: 1em; padding-right: 1em; text-align: center; vertical-align: top\">Baby Tracker&amp;reg; - Daily<br>Childcare Journal, ...</td>\n",
       "        <td style=\"padding-left: 1em; padding-right: 1em; text-align: center; vertical-align: top\">This has been an easy way<br>for my nanny to record ...</td>\n",
       "        <td style=\"padding-left: 1em; padding-right: 1em; text-align: center; vertical-align: top\">4.0</td>\n",
       "    </tr>\n",
       "</table>\n",
       "[183531 rows x 3 columns]<br/>Note: Only the head of the SFrame is printed.<br/>You can use print_rows(num_rows=m, num_columns=n) to print more rows and columns.\n",
       "</div>"
      ],
      "text/plain": [
       "Columns:\n",
       "\tname\tstr\n",
       "\treview\tstr\n",
       "\trating\tfloat\n",
       "\n",
       "Rows: 183531\n",
       "\n",
       "Data:\n",
       "+-------------------------------+-------------------------------+--------+\n",
       "|              name             |             review            | rating |\n",
       "+-------------------------------+-------------------------------+--------+\n",
       "|    Planetwise Flannel Wipes   | These flannel wipes are OK... |  3.0   |\n",
       "|     Planetwise Wipe Pouch     | it came early and was not ... |  5.0   |\n",
       "| Annas Dream Full Quilt wit... | Very soft and comfortable ... |  5.0   |\n",
       "| Stop Pacifier Sucking with... | This is a product well wor... |  5.0   |\n",
       "| Stop Pacifier Sucking with... | All of my kids have cried ... |  5.0   |\n",
       "| Stop Pacifier Sucking with... | When the Binky Fairy came ... |  5.0   |\n",
       "| A Tale of Baby's Days with... | Lovely book, it's bound ti... |  4.0   |\n",
       "| Baby Tracker&reg; - Daily ... | Perfect for new parents. W... |  5.0   |\n",
       "| Baby Tracker&reg; - Daily ... | A friend of mine pinned th... |  5.0   |\n",
       "| Baby Tracker&reg; - Daily ... | This has been an easy way ... |  4.0   |\n",
       "+-------------------------------+-------------------------------+--------+\n",
       "[183531 rows x 3 columns]\n",
       "Note: Only the head of the SFrame is printed.\n",
       "You can use print_rows(num_rows=m, num_columns=n) to print more rows and columns."
      ]
     },
     "execution_count": 3,
     "metadata": {},
     "output_type": "execute_result"
    }
   ],
   "source": [
    "products"
   ]
  },
  {
   "cell_type": "markdown",
   "metadata": {},
   "source": [
    "## Build the word count vector for each review"
   ]
  },
  {
   "cell_type": "markdown",
   "metadata": {},
   "source": [
    "Let us explore a specific example of a baby product.\n"
   ]
  },
  {
   "cell_type": "code",
   "execution_count": 4,
   "metadata": {
    "collapsed": false
   },
   "outputs": [
    {
     "data": {
      "text/plain": [
       "{'name': 'The First Years Massaging Action Teether',\n",
       " 'rating': 5.0,\n",
       " 'review': 'A favorite in our house!'}"
      ]
     },
     "execution_count": 4,
     "metadata": {},
     "output_type": "execute_result"
    }
   ],
   "source": [
    "products[269]"
   ]
  },
  {
   "cell_type": "markdown",
   "metadata": {},
   "source": [
    "Now, we will perform 2 simple data transformations:\n",
    "\n",
    "1. Remove punctuation using [Python's built-in](https://docs.python.org/2/library/string.html) string functionality.\n",
    "2. Transform the reviews into word-counts.\n",
    "\n",
    "**Aside**. In this notebook, we remove all punctuations for the sake of simplicity. A smarter approach to punctuations would preserve phrases such as \"I'd\", \"would've\", \"hadn't\" and so forth. See [this page](https://www.cis.upenn.edu/~treebank/tokenization.html) for an example of smart handling of punctuations."
   ]
  },
  {
   "cell_type": "code",
   "execution_count": 6,
   "metadata": {
    "collapsed": false
   },
   "outputs": [],
   "source": [
    "def remove_punctuation(text):\n",
    "    import string\n",
    "    return text.translate(None, string.punctuation) \n",
    "\n",
    "review_without_puctuation = products['review'].apply(remove_punctuation)\n",
    "products['word_count'] = graphlab.text_analytics.count_words(review_without_puctuation)"
   ]
  },
  {
   "cell_type": "markdown",
   "metadata": {},
   "source": [
    "Now, let us explore what the sample example above looks like after these 2 transformations. Here, each entry in the **word_count** column is a dictionary where the key is the word and the value is a count of the number of times the word occurs."
   ]
  },
  {
   "cell_type": "code",
   "execution_count": 7,
   "metadata": {
    "collapsed": false
   },
   "outputs": [
    {
     "data": {
      "text/plain": [
       "{'a': 1L, 'favorite': 1L, 'house': 1L, 'in': 1L, 'our': 1L}"
      ]
     },
     "execution_count": 7,
     "metadata": {},
     "output_type": "execute_result"
    }
   ],
   "source": [
    "products[269]['word_count']"
   ]
  },
  {
   "cell_type": "markdown",
   "metadata": {},
   "source": [
    "## Extract sentiments\n",
    "\n",
    "We will **ignore** all reviews with *rating = 3*, since they tend to have a neutral sentiment."
   ]
  },
  {
   "cell_type": "code",
   "execution_count": 8,
   "metadata": {
    "collapsed": false
   },
   "outputs": [
    {
     "data": {
      "text/plain": [
       "166752"
      ]
     },
     "execution_count": 8,
     "metadata": {},
     "output_type": "execute_result"
    }
   ],
   "source": [
    "products = products[products['rating'] != 3]\n",
    "len(products)"
   ]
  },
  {
   "cell_type": "markdown",
   "metadata": {},
   "source": [
    "Now, we will assign reviews with a rating of 4 or higher to be *positive* reviews, while the ones with rating of 2 or lower are *negative*. For the sentiment column, we use +1 for the positive class label and -1 for the negative class label."
   ]
  },
  {
   "cell_type": "code",
   "execution_count": 9,
   "metadata": {
    "collapsed": false
   },
   "outputs": [
    {
     "data": {
      "text/html": [
       "<div style=\"max-height:1000px;max-width:1500px;overflow:auto;\"><table frame=\"box\" rules=\"cols\">\n",
       "    <tr>\n",
       "        <th style=\"padding-left: 1em; padding-right: 1em; text-align: center\">name</th>\n",
       "        <th style=\"padding-left: 1em; padding-right: 1em; text-align: center\">review</th>\n",
       "        <th style=\"padding-left: 1em; padding-right: 1em; text-align: center\">rating</th>\n",
       "        <th style=\"padding-left: 1em; padding-right: 1em; text-align: center\">word_count</th>\n",
       "        <th style=\"padding-left: 1em; padding-right: 1em; text-align: center\">sentiment</th>\n",
       "    </tr>\n",
       "    <tr>\n",
       "        <td style=\"padding-left: 1em; padding-right: 1em; text-align: center; vertical-align: top\">Planetwise Wipe Pouch</td>\n",
       "        <td style=\"padding-left: 1em; padding-right: 1em; text-align: center; vertical-align: top\">it came early and was not<br>disappointed. i love ...</td>\n",
       "        <td style=\"padding-left: 1em; padding-right: 1em; text-align: center; vertical-align: top\">5.0</td>\n",
       "        <td style=\"padding-left: 1em; padding-right: 1em; text-align: center; vertical-align: top\">{'and': 3L, 'love': 1L,<br>'it': 3L, 'highly': 1L, ...</td>\n",
       "        <td style=\"padding-left: 1em; padding-right: 1em; text-align: center; vertical-align: top\">1</td>\n",
       "    </tr>\n",
       "    <tr>\n",
       "        <td style=\"padding-left: 1em; padding-right: 1em; text-align: center; vertical-align: top\">Annas Dream Full Quilt<br>with 2 Shams ...</td>\n",
       "        <td style=\"padding-left: 1em; padding-right: 1em; text-align: center; vertical-align: top\">Very soft and comfortable<br>and warmer than it ...</td>\n",
       "        <td style=\"padding-left: 1em; padding-right: 1em; text-align: center; vertical-align: top\">5.0</td>\n",
       "        <td style=\"padding-left: 1em; padding-right: 1em; text-align: center; vertical-align: top\">{'and': 2L, 'quilt': 1L,<br>'it': 1L, 'comfortable': ...</td>\n",
       "        <td style=\"padding-left: 1em; padding-right: 1em; text-align: center; vertical-align: top\">1</td>\n",
       "    </tr>\n",
       "    <tr>\n",
       "        <td style=\"padding-left: 1em; padding-right: 1em; text-align: center; vertical-align: top\">Stop Pacifier Sucking<br>without tears with ...</td>\n",
       "        <td style=\"padding-left: 1em; padding-right: 1em; text-align: center; vertical-align: top\">This is a product well<br>worth the purchase.  I ...</td>\n",
       "        <td style=\"padding-left: 1em; padding-right: 1em; text-align: center; vertical-align: top\">5.0</td>\n",
       "        <td style=\"padding-left: 1em; padding-right: 1em; text-align: center; vertical-align: top\">{'and': 3L, 'ingenious':<br>1L, 'love': 2L, 'is': ...</td>\n",
       "        <td style=\"padding-left: 1em; padding-right: 1em; text-align: center; vertical-align: top\">1</td>\n",
       "    </tr>\n",
       "    <tr>\n",
       "        <td style=\"padding-left: 1em; padding-right: 1em; text-align: center; vertical-align: top\">Stop Pacifier Sucking<br>without tears with ...</td>\n",
       "        <td style=\"padding-left: 1em; padding-right: 1em; text-align: center; vertical-align: top\">All of my kids have cried<br>non-stop when I tried to ...</td>\n",
       "        <td style=\"padding-left: 1em; padding-right: 1em; text-align: center; vertical-align: top\">5.0</td>\n",
       "        <td style=\"padding-left: 1em; padding-right: 1em; text-align: center; vertical-align: top\">{'and': 2L, 'all': 2L,<br>'help': 1L, 'cried': 1L, ...</td>\n",
       "        <td style=\"padding-left: 1em; padding-right: 1em; text-align: center; vertical-align: top\">1</td>\n",
       "    </tr>\n",
       "    <tr>\n",
       "        <td style=\"padding-left: 1em; padding-right: 1em; text-align: center; vertical-align: top\">Stop Pacifier Sucking<br>without tears with ...</td>\n",
       "        <td style=\"padding-left: 1em; padding-right: 1em; text-align: center; vertical-align: top\">When the Binky Fairy came<br>to our house, we didn't ...</td>\n",
       "        <td style=\"padding-left: 1em; padding-right: 1em; text-align: center; vertical-align: top\">5.0</td>\n",
       "        <td style=\"padding-left: 1em; padding-right: 1em; text-align: center; vertical-align: top\">{'and': 2L, 'cute': 1L,<br>'help': 2L, 'habit': 1L, ...</td>\n",
       "        <td style=\"padding-left: 1em; padding-right: 1em; text-align: center; vertical-align: top\">1</td>\n",
       "    </tr>\n",
       "    <tr>\n",
       "        <td style=\"padding-left: 1em; padding-right: 1em; text-align: center; vertical-align: top\">A Tale of Baby's Days<br>with Peter Rabbit ...</td>\n",
       "        <td style=\"padding-left: 1em; padding-right: 1em; text-align: center; vertical-align: top\">Lovely book, it's bound<br>tightly so you may no ...</td>\n",
       "        <td style=\"padding-left: 1em; padding-right: 1em; text-align: center; vertical-align: top\">4.0</td>\n",
       "        <td style=\"padding-left: 1em; padding-right: 1em; text-align: center; vertical-align: top\">{'shop': 1L, 'be': 1L,<br>'is': 1L, 'bound': 1L, ...</td>\n",
       "        <td style=\"padding-left: 1em; padding-right: 1em; text-align: center; vertical-align: top\">1</td>\n",
       "    </tr>\n",
       "    <tr>\n",
       "        <td style=\"padding-left: 1em; padding-right: 1em; text-align: center; vertical-align: top\">Baby Tracker&amp;reg; - Daily<br>Childcare Journal, ...</td>\n",
       "        <td style=\"padding-left: 1em; padding-right: 1em; text-align: center; vertical-align: top\">Perfect for new parents.<br>We were able to keep ...</td>\n",
       "        <td style=\"padding-left: 1em; padding-right: 1em; text-align: center; vertical-align: top\">5.0</td>\n",
       "        <td style=\"padding-left: 1em; padding-right: 1em; text-align: center; vertical-align: top\">{'and': 2L, 'all': 1L,<br>'right': 1L, 'able': 1L, ...</td>\n",
       "        <td style=\"padding-left: 1em; padding-right: 1em; text-align: center; vertical-align: top\">1</td>\n",
       "    </tr>\n",
       "    <tr>\n",
       "        <td style=\"padding-left: 1em; padding-right: 1em; text-align: center; vertical-align: top\">Baby Tracker&amp;reg; - Daily<br>Childcare Journal, ...</td>\n",
       "        <td style=\"padding-left: 1em; padding-right: 1em; text-align: center; vertical-align: top\">A friend of mine pinned<br>this product on Pinte ...</td>\n",
       "        <td style=\"padding-left: 1em; padding-right: 1em; text-align: center; vertical-align: top\">5.0</td>\n",
       "        <td style=\"padding-left: 1em; padding-right: 1em; text-align: center; vertical-align: top\">{'and': 1L, 'fantastic':<br>1L, 'help': 1L, 'give': ...</td>\n",
       "        <td style=\"padding-left: 1em; padding-right: 1em; text-align: center; vertical-align: top\">1</td>\n",
       "    </tr>\n",
       "    <tr>\n",
       "        <td style=\"padding-left: 1em; padding-right: 1em; text-align: center; vertical-align: top\">Baby Tracker&amp;reg; - Daily<br>Childcare Journal, ...</td>\n",
       "        <td style=\"padding-left: 1em; padding-right: 1em; text-align: center; vertical-align: top\">This has been an easy way<br>for my nanny to record ...</td>\n",
       "        <td style=\"padding-left: 1em; padding-right: 1em; text-align: center; vertical-align: top\">4.0</td>\n",
       "        <td style=\"padding-left: 1em; padding-right: 1em; text-align: center; vertical-align: top\">{'all': 1L, 'standarad':<br>1L, 'another': 1L, ...</td>\n",
       "        <td style=\"padding-left: 1em; padding-right: 1em; text-align: center; vertical-align: top\">1</td>\n",
       "    </tr>\n",
       "    <tr>\n",
       "        <td style=\"padding-left: 1em; padding-right: 1em; text-align: center; vertical-align: top\">Baby Tracker&amp;reg; - Daily<br>Childcare Journal, ...</td>\n",
       "        <td style=\"padding-left: 1em; padding-right: 1em; text-align: center; vertical-align: top\">I love this journal and<br>our nanny uses it ...</td>\n",
       "        <td style=\"padding-left: 1em; padding-right: 1em; text-align: center; vertical-align: top\">4.0</td>\n",
       "        <td style=\"padding-left: 1em; padding-right: 1em; text-align: center; vertical-align: top\">{'all': 2L, 'nannys': 1L,<br>'just': 1L, 'sleep': 2L, ...</td>\n",
       "        <td style=\"padding-left: 1em; padding-right: 1em; text-align: center; vertical-align: top\">1</td>\n",
       "    </tr>\n",
       "</table>\n",
       "[166752 rows x 5 columns]<br/>Note: Only the head of the SFrame is printed.<br/>You can use print_rows(num_rows=m, num_columns=n) to print more rows and columns.\n",
       "</div>"
      ],
      "text/plain": [
       "Columns:\n",
       "\tname\tstr\n",
       "\treview\tstr\n",
       "\trating\tfloat\n",
       "\tword_count\tdict\n",
       "\tsentiment\tint\n",
       "\n",
       "Rows: 166752\n",
       "\n",
       "Data:\n",
       "+-------------------------------+-------------------------------+--------+\n",
       "|              name             |             review            | rating |\n",
       "+-------------------------------+-------------------------------+--------+\n",
       "|     Planetwise Wipe Pouch     | it came early and was not ... |  5.0   |\n",
       "| Annas Dream Full Quilt wit... | Very soft and comfortable ... |  5.0   |\n",
       "| Stop Pacifier Sucking with... | This is a product well wor... |  5.0   |\n",
       "| Stop Pacifier Sucking with... | All of my kids have cried ... |  5.0   |\n",
       "| Stop Pacifier Sucking with... | When the Binky Fairy came ... |  5.0   |\n",
       "| A Tale of Baby's Days with... | Lovely book, it's bound ti... |  4.0   |\n",
       "| Baby Tracker&reg; - Daily ... | Perfect for new parents. W... |  5.0   |\n",
       "| Baby Tracker&reg; - Daily ... | A friend of mine pinned th... |  5.0   |\n",
       "| Baby Tracker&reg; - Daily ... | This has been an easy way ... |  4.0   |\n",
       "| Baby Tracker&reg; - Daily ... | I love this journal and ou... |  4.0   |\n",
       "+-------------------------------+-------------------------------+--------+\n",
       "+-------------------------------+-----------+\n",
       "|           word_count          | sentiment |\n",
       "+-------------------------------+-----------+\n",
       "| {'and': 3L, 'love': 1L, 'i... |     1     |\n",
       "| {'and': 2L, 'quilt': 1L, '... |     1     |\n",
       "| {'and': 3L, 'ingenious': 1... |     1     |\n",
       "| {'and': 2L, 'all': 2L, 'he... |     1     |\n",
       "| {'and': 2L, 'cute': 1L, 'h... |     1     |\n",
       "| {'shop': 1L, 'be': 1L, 'is... |     1     |\n",
       "| {'and': 2L, 'all': 1L, 'ri... |     1     |\n",
       "| {'and': 1L, 'fantastic': 1... |     1     |\n",
       "| {'all': 1L, 'standarad': 1... |     1     |\n",
       "| {'all': 2L, 'nannys': 1L, ... |     1     |\n",
       "+-------------------------------+-----------+\n",
       "[166752 rows x 5 columns]\n",
       "Note: Only the head of the SFrame is printed.\n",
       "You can use print_rows(num_rows=m, num_columns=n) to print more rows and columns."
      ]
     },
     "execution_count": 9,
     "metadata": {},
     "output_type": "execute_result"
    }
   ],
   "source": [
    "products['sentiment'] = products['rating'].apply(lambda rating : +1 if rating > 3 else -1)\n",
    "products"
   ]
  },
  {
   "cell_type": "markdown",
   "metadata": {},
   "source": [
    "Now, we can see that the dataset contains an extra column called **sentiment** which is either positive (+1) or negative (-1)."
   ]
  },
  {
   "cell_type": "markdown",
   "metadata": {},
   "source": [
    "## Split data into training and test sets"
   ]
  },
  {
   "cell_type": "markdown",
   "metadata": {},
   "source": [
    "Let's perform a train/test split with 80% of the data in the training set and 20% of the data in the test set. We use `seed=1` so that everyone gets the same result."
   ]
  },
  {
   "cell_type": "code",
   "execution_count": 10,
   "metadata": {
    "collapsed": false
   },
   "outputs": [
    {
     "name": "stdout",
     "output_type": "stream",
     "text": [
      "133416\n",
      "33336\n"
     ]
    }
   ],
   "source": [
    "train_data, test_data = products.random_split(.8, seed=1)\n",
    "print len(train_data)\n",
    "print len(test_data)"
   ]
  },
  {
   "cell_type": "markdown",
   "metadata": {},
   "source": [
    "# Train a sentiment classifier with logistic regression\n",
    "\n",
    "We will now use logistic regression to create a sentiment classifier on the training data. This model will use the column **word_count** as a feature and the column **sentiment** as the target. We will use `validation_set=None` to obtain same results as everyone else.\n",
    "\n",
    "**Note:** This line may take 1-2 minutes."
   ]
  },
  {
   "cell_type": "code",
   "execution_count": 11,
   "metadata": {
    "collapsed": false
   },
   "outputs": [
    {
     "name": "stdout",
     "output_type": "stream",
     "text": [
      "PROGRESS: Logistic regression:\n",
      "PROGRESS: --------------------------------------------------------\n",
      "PROGRESS: Number of examples          : 133416\n",
      "PROGRESS: Number of classes           : 2\n",
      "PROGRESS: Number of feature columns   : 1\n",
      "PROGRESS: Number of unpacked features : 121712\n",
      "PROGRESS: Number of coefficients    : 121713\n",
      "PROGRESS: Starting L-BFGS\n",
      "PROGRESS: --------------------------------------------------------\n",
      "PROGRESS: +-----------+----------+-----------+--------------+-------------------+\n",
      "PROGRESS: | Iteration | Passes   | Step size | Elapsed Time | Training-accuracy |\n",
      "PROGRESS: +-----------+----------+-----------+--------------+-------------------+\n",
      "PROGRESS: | 1         | 5        | 0.000002  | 2.925145     | 0.840754          |\n",
      "PROGRESS: | 2         | 9        | 3.000000  | 4.565798     | 0.931350          |\n",
      "PROGRESS: | 3         | 10       | 3.000000  | 5.134241     | 0.882046          |\n",
      "PROGRESS: | 4         | 11       | 3.000000  | 5.681125     | 0.954076          |\n",
      "PROGRESS: | 5         | 12       | 3.000000  | 6.303191     | 0.960964          |\n",
      "PROGRESS: | 6         | 13       | 3.000000  | 6.943278     | 0.975033          |\n",
      "PROGRESS: +-----------+----------+-----------+--------------+-------------------+\n",
      "PROGRESS: TERMINATED: Terminated due to numerical difficulties.\n",
      "PROGRESS: This model may not be ideal. To improve it, consider doing one of the following:\n",
      "(a) Increasing the regularization.\n",
      "(b) Standardizing the input data.\n",
      "(c) Removing highly correlated features.\n",
      "(d) Removing `inf` and `NaN` values in the training data.\n"
     ]
    }
   ],
   "source": [
    "sentiment_model = graphlab.logistic_classifier.create(train_data,\n",
    "                                                      target = 'sentiment',\n",
    "                                                      features=['word_count'],\n",
    "                                                      validation_set=None)"
   ]
  },
  {
   "cell_type": "code",
   "execution_count": 11,
   "metadata": {
    "collapsed": false,
    "scrolled": true
   },
   "outputs": [
    {
     "data": {
      "text/plain": [
       "Class                         : LogisticClassifier\n",
       "\n",
       "Schema\n",
       "------\n",
       "Number of coefficients        : 121713\n",
       "Number of examples            : 133416\n",
       "Number of classes             : 2\n",
       "Number of feature columns     : 1\n",
       "Number of unpacked features   : 121712\n",
       "\n",
       "Hyperparameters\n",
       "---------------\n",
       "L1 penalty                    : 0.0\n",
       "L2 penalty                    : 0.01\n",
       "\n",
       "Training Summary\n",
       "----------------\n",
       "Solver                        : auto\n",
       "Solver iterations             : 6\n",
       "Solver status                 : TERMINATED: Terminated due to numerical difficulties.\n",
       "Training time (sec)           : 7.6155\n",
       "\n",
       "Settings\n",
       "--------\n",
       "Log-likelihood                : inf\n",
       "\n",
       "Highest Positive Coefficients\n",
       "-----------------------------\n",
       "word_count[mobileupdate]      : 41.9847\n",
       "word_count[placeid]           : 41.7354\n",
       "word_count[labelbox]          : 41.151\n",
       "word_count[httpwwwamazoncomreviewrhgg6qp7tdnhbrefcmcrprcmtieutf8asinb00318cla0nodeid]: 40.0454\n",
       "word_count[knobskeeping]      : 36.2091\n",
       "\n",
       "Lowest Negative Coefficients\n",
       "----------------------------\n",
       "word_count[probelm]           : -44.9283\n",
       "word_count[impulsejeep]       : -43.081\n",
       "word_count[infantsyoung]      : -39.5945\n",
       "word_count[cutereditafter]    : -35.6875\n",
       "word_count[avacado]           : -35.0542"
      ]
     },
     "execution_count": 11,
     "metadata": {},
     "output_type": "execute_result"
    }
   ],
   "source": [
    "sentiment_model"
   ]
  },
  {
   "cell_type": "markdown",
   "metadata": {},
   "source": [
    "**Aside**. You may get an warning to the effect of \"Terminated due to numerical difficulties --- this model may not be ideal\". It means that the quality metric (to be covered in Module 3) failed to improve in the last iteration of the run. The difficulty arises as the sentiment model puts too much weight on extremely rare words. A way to rectify this is to apply regularization, to be covered in Module 4. Regularization lessens the effect of extremely rare words. For the purpose of this assignment, however, please proceed with the model above."
   ]
  },
  {
   "cell_type": "markdown",
   "metadata": {},
   "source": [
    "Now that we have fitted the model, we can extract the weights (coefficients) as an SFrame as follows:"
   ]
  },
  {
   "cell_type": "code",
   "execution_count": 23,
   "metadata": {
    "collapsed": false
   },
   "outputs": [
    {
     "data": {
      "text/plain": [
       "dtype: int\n",
       "Rows: 121713\n",
       "[1L, 1L, 1L, 0L, 1L, 1L, 0L, 1L, 1L, 0L, 0L, 1L, 1L, 1L, 0L, 0L, 1L, 0L, 1L, 1L, 0L, 0L, 1L, 1L, 1L, 1L, 1L, 1L, 1L, 1L, 1L, 0L, 1L, 1L, 1L, 1L, 1L, 1L, 1L, 1L, 0L, 1L, 1L, 0L, 1L, 1L, 0L, 0L, 1L, 1L, 0L, 1L, 1L, 0L, 1L, 0L, 1L, 1L, 1L, 1L, 1L, 1L, 1L, 1L, 1L, 1L, 1L, 1L, 0L, 1L, 1L, 0L, 0L, 1L, 1L, 1L, 1L, 0L, 1L, 1L, 1L, 1L, 1L, 1L, 0L, 1L, 1L, 0L, 1L, 0L, 0L, 1L, 0L, 1L, 0L, 1L, 1L, 0L, 0L, 1L, ... ]"
      ]
     },
     "execution_count": 23,
     "metadata": {},
     "output_type": "execute_result"
    }
   ],
   "source": [
    "weights = sentiment_model.coefficients\n",
    "#weights.column_names()\n",
    "weights['value']\n",
    "weights['value'] > 0"
   ]
  },
  {
   "cell_type": "markdown",
   "metadata": {},
   "source": [
    "There are a total of `121713` coefficients in the model. Recall from the lecture that positive weights $w_j$ correspond to weights that cause positive sentiment, while negative weights correspond to negative sentiment. \n",
    "\n",
    "Fill in the following block of code to calculate how many *weights* are positive ( >= 0). (**Hint**: The `'value'` column in SFrame *weights* must be positive ( >= 0))."
   ]
  },
  {
   "cell_type": "code",
   "execution_count": 26,
   "metadata": {
    "collapsed": false
   },
   "outputs": [
    {
     "name": "stdout",
     "output_type": "stream",
     "text": [
      "Number of positive weights: 68419 \n",
      "Number of negative weights: 53294 \n"
     ]
    }
   ],
   "source": [
    "num_positive_weights = sum(weights['value'] > 0)\n",
    "num_negative_weights = sum(weights['value'] < 0)\n",
    "\n",
    "print \"Number of positive weights: %s \" % num_positive_weights\n",
    "print \"Number of negative weights: %s \" % num_negative_weights53294\n"
   ]
  },
  {
   "cell_type": "markdown",
   "metadata": {},
   "source": [
    "**Quiz question:** How many weights are >= 0?"
   ]
  },
  {
   "cell_type": "markdown",
   "metadata": {},
   "source": [
    "## Making predictions with logistic regression\n",
    "\n",
    "Now that a model is trained, we can make predictions on the **test data**. In this section, we will explore this in the context of 3 examples in the test dataset.  We refer to this set of 3 examples as the **sample_test_data**."
   ]
  },
  {
   "cell_type": "code",
   "execution_count": 27,
   "metadata": {
    "collapsed": false
   },
   "outputs": [
    {
     "name": "stdout",
     "output_type": "stream",
     "text": [
      "[5.0, 2.0, 1.0]\n"
     ]
    },
    {
     "data": {
      "text/html": [
       "<div style=\"max-height:1000px;max-width:1500px;overflow:auto;\"><table frame=\"box\" rules=\"cols\">\n",
       "    <tr>\n",
       "        <th style=\"padding-left: 1em; padding-right: 1em; text-align: center\">name</th>\n",
       "        <th style=\"padding-left: 1em; padding-right: 1em; text-align: center\">review</th>\n",
       "        <th style=\"padding-left: 1em; padding-right: 1em; text-align: center\">rating</th>\n",
       "        <th style=\"padding-left: 1em; padding-right: 1em; text-align: center\">word_count</th>\n",
       "        <th style=\"padding-left: 1em; padding-right: 1em; text-align: center\">sentiment</th>\n",
       "    </tr>\n",
       "    <tr>\n",
       "        <td style=\"padding-left: 1em; padding-right: 1em; text-align: center; vertical-align: top\">Our Baby Girl Memory Book</td>\n",
       "        <td style=\"padding-left: 1em; padding-right: 1em; text-align: center; vertical-align: top\">Absolutely love it and<br>all of the Scripture in ...</td>\n",
       "        <td style=\"padding-left: 1em; padding-right: 1em; text-align: center; vertical-align: top\">5.0</td>\n",
       "        <td style=\"padding-left: 1em; padding-right: 1em; text-align: center; vertical-align: top\">{'and': 2L, 'all': 1L,<br>'love': 1L, ...</td>\n",
       "        <td style=\"padding-left: 1em; padding-right: 1em; text-align: center; vertical-align: top\">1</td>\n",
       "    </tr>\n",
       "    <tr>\n",
       "        <td style=\"padding-left: 1em; padding-right: 1em; text-align: center; vertical-align: top\">Wall Decor Removable<br>Decal Sticker - Colorful ...</td>\n",
       "        <td style=\"padding-left: 1em; padding-right: 1em; text-align: center; vertical-align: top\">Would not purchase again<br>or recommend. The decals ...</td>\n",
       "        <td style=\"padding-left: 1em; padding-right: 1em; text-align: center; vertical-align: top\">2.0</td>\n",
       "        <td style=\"padding-left: 1em; padding-right: 1em; text-align: center; vertical-align: top\">{'and': 1L, 'wall': 1L,<br>'them': 1L, 'decals': ...</td>\n",
       "        <td style=\"padding-left: 1em; padding-right: 1em; text-align: center; vertical-align: top\">-1</td>\n",
       "    </tr>\n",
       "    <tr>\n",
       "        <td style=\"padding-left: 1em; padding-right: 1em; text-align: center; vertical-align: top\">New Style Trailing Cherry<br>Blossom Tree Decal ...</td>\n",
       "        <td style=\"padding-left: 1em; padding-right: 1em; text-align: center; vertical-align: top\">Was so excited to get<br>this product for my baby ...</td>\n",
       "        <td style=\"padding-left: 1em; padding-right: 1em; text-align: center; vertical-align: top\">1.0</td>\n",
       "        <td style=\"padding-left: 1em; padding-right: 1em; text-align: center; vertical-align: top\">{'all': 1L, 'money': 1L,<br>'into': 1L, 'it': 3L, ...</td>\n",
       "        <td style=\"padding-left: 1em; padding-right: 1em; text-align: center; vertical-align: top\">-1</td>\n",
       "    </tr>\n",
       "</table>\n",
       "[3 rows x 5 columns]<br/>\n",
       "</div>"
      ],
      "text/plain": [
       "Columns:\n",
       "\tname\tstr\n",
       "\treview\tstr\n",
       "\trating\tfloat\n",
       "\tword_count\tdict\n",
       "\tsentiment\tint\n",
       "\n",
       "Rows: 3\n",
       "\n",
       "Data:\n",
       "+-------------------------------+-------------------------------+--------+\n",
       "|              name             |             review            | rating |\n",
       "+-------------------------------+-------------------------------+--------+\n",
       "|   Our Baby Girl Memory Book   | Absolutely love it and all... |  5.0   |\n",
       "| Wall Decor Removable Decal... | Would not purchase again o... |  2.0   |\n",
       "| New Style Trailing Cherry ... | Was so excited to get this... |  1.0   |\n",
       "+-------------------------------+-------------------------------+--------+\n",
       "+-------------------------------+-----------+\n",
       "|           word_count          | sentiment |\n",
       "+-------------------------------+-----------+\n",
       "| {'and': 2L, 'all': 1L, 'lo... |     1     |\n",
       "| {'and': 1L, 'wall': 1L, 't... |     -1    |\n",
       "| {'all': 1L, 'money': 1L, '... |     -1    |\n",
       "+-------------------------------+-----------+\n",
       "[3 rows x 5 columns]"
      ]
     },
     "execution_count": 27,
     "metadata": {},
     "output_type": "execute_result"
    }
   ],
   "source": [
    "sample_test_data = test_data[10:13]\n",
    "print sample_test_data['rating']\n",
    "sample_test_data"
   ]
  },
  {
   "cell_type": "markdown",
   "metadata": {},
   "source": [
    "Let's dig deeper into the first row of the **sample_test_data**. Here's the full review:"
   ]
  },
  {
   "cell_type": "code",
   "execution_count": 28,
   "metadata": {
    "collapsed": false
   },
   "outputs": [
    {
     "data": {
      "text/plain": [
       "'Absolutely love it and all of the Scripture in it.  I purchased the Baby Boy version for my grandson when he was born and my daughter-in-law was thrilled to receive the same book again.'"
      ]
     },
     "execution_count": 28,
     "metadata": {},
     "output_type": "execute_result"
    }
   ],
   "source": [
    "sample_test_data[0]['review']"
   ]
  },
  {
   "cell_type": "markdown",
   "metadata": {},
   "source": [
    "That review seems pretty positive.\n",
    "\n",
    "Now, let's see what the next row of the **sample_test_data** looks like. As we could guess from the sentiment (-1), the review is quite negative."
   ]
  },
  {
   "cell_type": "code",
   "execution_count": 29,
   "metadata": {
    "collapsed": false
   },
   "outputs": [
    {
     "data": {
      "text/plain": [
       "'Would not purchase again or recommend. The decals were thick almost plastic like and were coming off the wall as I was applying them! The would NOT stick! Literally stayed stuck for about 5 minutes then started peeling off.'"
      ]
     },
     "execution_count": 29,
     "metadata": {},
     "output_type": "execute_result"
    }
   ],
   "source": [
    "sample_test_data[1]['review']"
   ]
  },
  {
   "cell_type": "markdown",
   "metadata": {},
   "source": [
    "We will now make a **class** prediction for the **sample_test_data**. The `sentiment_model` should predict **+1** if the sentiment is positive and **-1** if the sentiment is negative. Recall from the lecture that the **score** (sometimes called **margin**) for the logistic regression model  is defined as:\n",
    "\n",
    "$$\n",
    "\\mbox{score}_i = \\mathbf{w}^T h(\\mathbf{x}_i)\n",
    "$$ \n",
    "\n",
    "where $h(\\mathbf{x}_i)$ represents the features for example $i$.  We will write some code to obtain the **scores** using GraphLab Create. For each row, the **score** (or margin) is a number in the range **[-inf, inf]**."
   ]
  },
  {
   "cell_type": "code",
   "execution_count": 30,
   "metadata": {
    "collapsed": false
   },
   "outputs": [
    {
     "name": "stdout",
     "output_type": "stream",
     "text": [
      "[6.7346197270596955, -5.734130996760544, -14.668460404469052]\n"
     ]
    }
   ],
   "source": [
    "scores = sentiment_model.predict(sample_test_data, output_type='margin')\n",
    "print scores"
   ]
  },
  {
   "cell_type": "markdown",
   "metadata": {},
   "source": [
    "### Predicting sentiment\n",
    "\n",
    "These scores can be used to make class predictions as follows:\n",
    "\n",
    "$$\n",
    "\\hat{y} = \n",
    "\\left\\{\n",
    "\\begin{array}{ll}\n",
    "      +1 & \\mathbf{w}^T h(\\mathbf{x}_i) > 0 \\\\\n",
    "      -1 & \\mathbf{w}^T h(\\mathbf{x}_i) \\leq 0 \\\\\n",
    "\\end{array} \n",
    "\\right.\n",
    "$$\n",
    "\n",
    "Using scores, write code to calculate $\\hat{y}$, the class predictions:"
   ]
  },
  {
   "cell_type": "code",
   "execution_count": 90,
   "metadata": {
    "collapsed": false
   },
   "outputs": [
    {
     "name": "stdout",
     "output_type": "stream",
     "text": [
      "[1L, -1L, -1L]\n"
     ]
    }
   ],
   "source": [
    "def predictions(i):\n",
    "    if i > 0:\n",
    "        return 1L\n",
    "    else:\n",
    "        return -1L\n",
    "\n",
    "prediction = []    \n",
    "for i in range(3):\n",
    "    prediction.append(predictions(scores[i]))\n",
    "print prediction"
   ]
  },
  {
   "cell_type": "markdown",
   "metadata": {},
   "source": [
    "Run the following code to verify that the class predictions obtained by your calculations are the same as that obtained from GraphLab Create."
   ]
  },
  {
   "cell_type": "code",
   "execution_count": 86,
   "metadata": {
    "collapsed": false
   },
   "outputs": [
    {
     "name": "stdout",
     "output_type": "stream",
     "text": [
      "Class predictions according to GraphLab Create:\n",
      "[1L, -1L, -1L]\n"
     ]
    }
   ],
   "source": [
    "print \"Class predictions according to GraphLab Create:\" \n",
    "print sentiment_model.predict(sample_test_data)"
   ]
  },
  {
   "cell_type": "markdown",
   "metadata": {},
   "source": [
    "**Checkpoint**: Make sure your class predictions match with the one obtained from GraphLab Create.\n",
    "\n",
    "### Probability predictions\n",
    "\n",
    "Recall from the lectures that we can also calculate the probability predictions from the scores using:\n",
    "$$\n",
    "P(y_i = +1 | \\mathbf{x}_i,\\mathbf{w}) = \\frac{1}{1 + \\exp(-\\mathbf{w}^T h(\\mathbf{x}_i))}.\n",
    "$$\n",
    "\n",
    "Using the variable **scores** calculated previously, write code to calculate the probability that a sentiment is positive using the above formula. For each row, the probabilities should be a number in the range **[0, 1]**."
   ]
  },
  {
   "cell_type": "code",
   "execution_count": 74,
   "metadata": {
    "collapsed": false
   },
   "outputs": [
    {
     "name": "stdout",
     "output_type": "stream",
     "text": [
      "[  9.98812385e-01   3.22326818e-03   4.26155800e-07]\n"
     ]
    }
   ],
   "source": [
    "import numpy as np\n",
    "\n",
    "def calc_prob(i):\n",
    "    return 1 / (1 + np.exp(-i))\n",
    "\n",
    "print calc_prob(scores[:])\n"
   ]
  },
  {
   "cell_type": "markdown",
   "metadata": {},
   "source": [
    "**Checkpoint**: Make sure your probability predictions match the ones obtained from GraphLab Create."
   ]
  },
  {
   "cell_type": "code",
   "execution_count": 68,
   "metadata": {
    "collapsed": false
   },
   "outputs": [
    {
     "name": "stdout",
     "output_type": "stream",
     "text": [
      "Class predictions according to GraphLab Create:\n",
      "[0.9988123848377203, 0.0032232681817997606, 4.261557996653147e-07]\n"
     ]
    }
   ],
   "source": [
    "print \"Class predictions according to GraphLab Create:\" \n",
    "print sentiment_model.predict(sample_test_data, output_type='probability')"
   ]
  },
  {
   "cell_type": "markdown",
   "metadata": {},
   "source": [
    "** Quiz Question:** Of the three data points in **sample_test_data**, which one (first, second, or third) has the **lowest probability** of being classified as a positive review?"
   ]
  },
  {
   "cell_type": "markdown",
   "metadata": {},
   "source": [
    "# Find the most positive (and negative) review"
   ]
  },
  {
   "cell_type": "markdown",
   "metadata": {},
   "source": [
    "We now turn to examining the full test dataset, **test_data**, and use GraphLab Create to form predictions on all of the test data points for faster performance.\n",
    "\n",
    "Using the `sentiment_model`, find the 20 reviews in the entire **test_data** with the **highest probability** of being classified as a **positive review**. We refer to these as the \"most positive reviews.\"\n",
    "\n",
    "To calculate these top-20 reviews, use the following steps:\n",
    "1.  Make probability predictions on **test_data** using the `sentiment_model`. (**Hint:** When you call `.predict` to make predictions on the test data, use option `output_type='probability'` to output the probability rather than just the most likely class.)\n",
    "2.  Sort the data according to those predictions and pick the top 20. (**Hint:** You can use the `.topk` method on an SFrame to find the top k rows sorted according to the value of a specified column.)"
   ]
  },
  {
   "cell_type": "markdown",
   "metadata": {},
   "source": [
    "**Quiz Question**: Which of the following products are represented in the 20 most positive reviews? [multiple choice]\n",
    "\n",
    "\n",
    "Now, let us repeat this excercise to find the \"most negative reviews.\" Use the prediction probabilities to find the  20 reviews in the **test_data** with the **lowest probability** of being classified as a **positive review**. Repeat the same steps above but make sure you **sort in the opposite order**."
   ]
  },
  {
   "cell_type": "code",
   "execution_count": 236,
   "metadata": {
    "collapsed": false,
    "scrolled": true
   },
   "outputs": [
    {
     "name": "stdout",
     "output_type": "stream",
     "text": [
      "+-----+-------------------------------+\n",
      "|  X1 |              name             |\n",
      "+-----+-------------------------------+\n",
      "| 1.0 | Britax Decathlon Convertib... |\n",
      "| 1.0 | Ameda Purely Yours Breast ... |\n",
      "| 1.0 | Traveling Toddler Car Seat... |\n",
      "| 1.0 | Shermag Glider Rocker Comb... |\n",
      "| 1.0 | Cloud b Sound Machine Soot... |\n",
      "| 1.0 | JP Lizzy Chocolate Ice Cla... |\n",
      "| 1.0 | Fisher-Price Rainforest Me... |\n",
      "| 1.0 | Lilly Gold Sit 'n' Stroll ... |\n",
      "| 1.0 |  Fisher-Price Deluxe Jumperoo |\n",
      "| 1.0 | North States Supergate Pre... |\n",
      "| 1.0 |   Munchkin Mozart Magic Cube  |\n",
      "| 1.0 | Britax Marathon Convertibl... |\n",
      "| 1.0 | Wizard Convertible Car Sea... |\n",
      "| 1.0 |   Capri Stroller - Red Tech   |\n",
      "| 1.0 | Peg Perego Primo Viaggio C... |\n",
      "| 1.0 | HALO SleepSack Micro-Fleec... |\n",
      "| 1.0 | Leachco Snoogle Total Body... |\n",
      "| 1.0 | Summer Infant Complete Nur... |\n",
      "| 1.0 | Safety 1st Tot-Lok Four Lo... |\n",
      "| 1.0 |  BABYBJORN Potty Chair - Red  |\n",
      "+-----+-------------------------------+\n",
      "[20 rows x 2 columns]\n",
      "\n"
     ]
    },
    {
     "data": {
      "text/html": [
       "<div style=\"max-height:1000px;max-width:1500px;overflow:auto;\"><table frame=\"box\" rules=\"cols\">\n",
       "    <tr>\n",
       "        <th style=\"padding-left: 1em; padding-right: 1em; text-align: center\">X1</th>\n",
       "        <th style=\"padding-left: 1em; padding-right: 1em; text-align: center\">name</th>\n",
       "    </tr>\n",
       "    <tr>\n",
       "        <td style=\"padding-left: 1em; padding-right: 1em; text-align: center; vertical-align: top\">1.0</td>\n",
       "        <td style=\"padding-left: 1em; padding-right: 1em; text-align: center; vertical-align: top\">Britax Decathlon<br>Convertible Car Seat, ...</td>\n",
       "    </tr>\n",
       "    <tr>\n",
       "        <td style=\"padding-left: 1em; padding-right: 1em; text-align: center; vertical-align: top\">1.0</td>\n",
       "        <td style=\"padding-left: 1em; padding-right: 1em; text-align: center; vertical-align: top\">Ameda Purely Yours Breast<br>Pump - Carry All ...</td>\n",
       "    </tr>\n",
       "    <tr>\n",
       "        <td style=\"padding-left: 1em; padding-right: 1em; text-align: center; vertical-align: top\">1.0</td>\n",
       "        <td style=\"padding-left: 1em; padding-right: 1em; text-align: center; vertical-align: top\">Traveling Toddler Car<br>Seat Travel Accessory ...</td>\n",
       "    </tr>\n",
       "    <tr>\n",
       "        <td style=\"padding-left: 1em; padding-right: 1em; text-align: center; vertical-align: top\">1.0</td>\n",
       "        <td style=\"padding-left: 1em; padding-right: 1em; text-align: center; vertical-align: top\">Shermag Glider Rocker<br>Combo, Pecan with Oat ...</td>\n",
       "    </tr>\n",
       "    <tr>\n",
       "        <td style=\"padding-left: 1em; padding-right: 1em; text-align: center; vertical-align: top\">1.0</td>\n",
       "        <td style=\"padding-left: 1em; padding-right: 1em; text-align: center; vertical-align: top\">Cloud b Sound Machine<br>Soother, Sleep Sheep ...</td>\n",
       "    </tr>\n",
       "    <tr>\n",
       "        <td style=\"padding-left: 1em; padding-right: 1em; text-align: center; vertical-align: top\">1.0</td>\n",
       "        <td style=\"padding-left: 1em; padding-right: 1em; text-align: center; vertical-align: top\">JP Lizzy Chocolate Ice<br>Classic Tote Set ...</td>\n",
       "    </tr>\n",
       "    <tr>\n",
       "        <td style=\"padding-left: 1em; padding-right: 1em; text-align: center; vertical-align: top\">1.0</td>\n",
       "        <td style=\"padding-left: 1em; padding-right: 1em; text-align: center; vertical-align: top\">Fisher-Price Rainforest<br>Melodies and Lights ...</td>\n",
       "    </tr>\n",
       "    <tr>\n",
       "        <td style=\"padding-left: 1em; padding-right: 1em; text-align: center; vertical-align: top\">1.0</td>\n",
       "        <td style=\"padding-left: 1em; padding-right: 1em; text-align: center; vertical-align: top\">Lilly Gold Sit 'n' Stroll<br>5 in 1 Car Seat and ...</td>\n",
       "    </tr>\n",
       "    <tr>\n",
       "        <td style=\"padding-left: 1em; padding-right: 1em; text-align: center; vertical-align: top\">1.0</td>\n",
       "        <td style=\"padding-left: 1em; padding-right: 1em; text-align: center; vertical-align: top\">Fisher-Price Deluxe<br>Jumperoo ...</td>\n",
       "    </tr>\n",
       "    <tr>\n",
       "        <td style=\"padding-left: 1em; padding-right: 1em; text-align: center; vertical-align: top\">1.0</td>\n",
       "        <td style=\"padding-left: 1em; padding-right: 1em; text-align: center; vertical-align: top\">North States Supergate<br>Pressure Mount Clear ...</td>\n",
       "    </tr>\n",
       "</table>\n",
       "[20 rows x 2 columns]<br/>Note: Only the head of the SFrame is printed.<br/>You can use print_rows(num_rows=m, num_columns=n) to print more rows and columns.\n",
       "</div>"
      ],
      "text/plain": [
       "Columns:\n",
       "\tX1\tfloat\n",
       "\tname\tstr\n",
       "\n",
       "Rows: 20\n",
       "\n",
       "Data:\n",
       "+-----+-------------------------------+\n",
       "|  X1 |              name             |\n",
       "+-----+-------------------------------+\n",
       "| 1.0 | Britax Decathlon Convertib... |\n",
       "| 1.0 | Ameda Purely Yours Breast ... |\n",
       "| 1.0 | Traveling Toddler Car Seat... |\n",
       "| 1.0 | Shermag Glider Rocker Comb... |\n",
       "| 1.0 | Cloud b Sound Machine Soot... |\n",
       "| 1.0 | JP Lizzy Chocolate Ice Cla... |\n",
       "| 1.0 | Fisher-Price Rainforest Me... |\n",
       "| 1.0 | Lilly Gold Sit 'n' Stroll ... |\n",
       "| 1.0 |  Fisher-Price Deluxe Jumperoo |\n",
       "| 1.0 | North States Supergate Pre... |\n",
       "+-----+-------------------------------+\n",
       "[20 rows x 2 columns]\n",
       "Note: Only the head of the SFrame is printed.\n",
       "You can use print_rows(num_rows=m, num_columns=n) to print more rows and columns."
      ]
     },
     "execution_count": 236,
     "metadata": {},
     "output_type": "execute_result"
    }
   ],
   "source": [
    "#sentiment_model.predict_topk(test_data,output_type='probability',k=1)\n",
    "sf = graphlab.SFrame(sentiment_model.predict(test_data,output_type='probability'))\n",
    "sf['name'] = test_data['name']\n",
    "\n",
    "\n",
    "#.topk(\"X1\",20).print_rows(num_rows=20)\n",
    "sf\n",
    "\n",
    "sf.topk('X1',20).print_rows(num_rows=20,num_columns=2)\n",
    "sf.topk('X1',20)"
   ]
  },
  {
   "cell_type": "markdown",
   "metadata": {
    "collapsed": true
   },
   "source": [
    "**Quiz Question**: Which of the following products are represented in the 20 most negative reviews?  [multiple choice]"
   ]
  },
  {
   "cell_type": "code",
   "execution_count": 134,
   "metadata": {
    "collapsed": false
   },
   "outputs": [
    {
     "name": "stdout",
     "output_type": "stream",
     "text": [
      "+--------------------+-------------------------------+\n",
      "|         X1         |              name             |\n",
      "+--------------------+-------------------------------+\n",
      "| 7.80415068203e-100 | Jolly Jumper Arctic Sneak ... |\n",
      "| 6.83650885512e-25  | Levana Safe N'See Digital ... |\n",
      "| 2.12654510823e-24  | Snuza Portable Baby Moveme... |\n",
      "| 2.24582080778e-23  | Fisher-Price Ocean Wonders... |\n",
      "| 1.32962966148e-22  | VTech Communications Safe ... |\n",
      "| 2.06872097469e-20  | Safety 1st High-Def Digita... |\n",
      "|  5.9388199467e-20  | Chicco Cortina KeyFit 30 T... |\n",
      "| 6.28510016536e-20  | Prince Lionheart Warmies W... |\n",
      "| 8.05528712687e-20  | Valco Baby Tri-mode Twin S... |\n",
      "| 8.46521724939e-20  | Adiri BPA Free Natural Nur... |\n",
      "|  1.5285394517e-19  | Munchkin Nursery Projector... |\n",
      "| 1.77901889383e-19  | The First Years True Choic... |\n",
      "| 1.15227353847e-18  | Nuby Natural Touch Silicon... |\n",
      "| 1.26175666135e-18  | Peg-Perego Tatamia High Ch... |\n",
      "| 1.60282966315e-18  |    Fisher-Price Royal Potty   |\n",
      "| 7.04887411709e-18  | Safety 1st Exchangeable Ti... |\n",
      "| 9.84839237567e-18  | Safety 1st Lift Lock and S... |\n",
      "| 1.00120730395e-17  | Evenflo Take Me Too Premie... |\n",
      "|  1.169063556e-17   | Cloth Diaper Sprayer--styl... |\n",
      "| 1.22003532002e-17  | The First Years 3 Pack Bre... |\n",
      "+--------------------+-------------------------------+\n",
      "[20 rows x 2 columns]\n",
      "\n"
     ]
    }
   ],
   "source": [
    "sf.topk(\"X1\",20,-1).print_rows(num_rows=20,num_columns=2)"
   ]
  },
  {
   "cell_type": "markdown",
   "metadata": {},
   "source": [
    "## Compute accuracy of the classifier\n",
    "\n",
    "We will now evaluate the accuracy of the trained classifer. Recall that the accuracy is given by\n",
    "\n",
    "\n",
    "$$\n",
    "\\mbox{accuracy} = \\frac{\\mbox{# correctly classified examples}}{\\mbox{# total examples}}\n",
    "$$\n",
    "\n",
    "This can be computed as follows:\n",
    "\n",
    "* **Step 1:** Use the trained model to compute class predictions (**Hint:** Use the `predict` method)\n",
    "* **Step 2:** Count the number of data points when the predicted class labels match the ground truth labels (called `true_labels` below).\n",
    "* **Step 3:** Divide the total number of correct predictions by the total number of data points in the dataset.\n",
    "\n",
    "Complete the function below to compute the classification accuracy:"
   ]
  },
  {
   "cell_type": "code",
   "execution_count": 135,
   "metadata": {
    "collapsed": true,
    "scrolled": true
   },
   "outputs": [],
   "source": [
    "def get_classification_accuracy(model, data, true_labels):\n",
    "    # First get the predictions\n",
    "    labels = model.predict(data)\n",
    "    \n",
    "    # Compute the number of correctly classified examples\n",
    "    cor_ex = sum(labels == true_labels)\n",
    "\n",
    "    # Then compute accuracy by dividing num_correct by total number of examples\n",
    "    ## YOUR CODE HERE\n",
    "    accuracy = cor_ex / len(data)\n",
    "    \n",
    "    return accuracy"
   ]
  },
  {
   "cell_type": "markdown",
   "metadata": {},
   "source": [
    "Now, let's compute the classification accuracy of the **sentiment_model** on the **test_data**."
   ]
  },
  {
   "cell_type": "code",
   "execution_count": 136,
   "metadata": {
    "collapsed": false
   },
   "outputs": [
    {
     "data": {
      "text/plain": [
       "0.9145368370530358"
      ]
     },
     "execution_count": 136,
     "metadata": {},
     "output_type": "execute_result"
    }
   ],
   "source": [
    "get_classification_accuracy(sentiment_model, test_data, test_data['sentiment'])"
   ]
  },
  {
   "cell_type": "markdown",
   "metadata": {},
   "source": [
    "**Quiz Question**: What is the accuracy of the **sentiment_model** on the **test_data**? Round your answer to 2 decimal places (e.g. 0.76).\n",
    "\n",
    "**Quiz Question**: Does a higher accuracy value on the **training_data** always imply that the classifier is better?"
   ]
  },
  {
   "cell_type": "markdown",
   "metadata": {},
   "source": [
    "## Learn another classifier with fewer words\n",
    "\n",
    "There were a lot of words in the model we trained above. We will now train a simpler logistic regression model using only a subet of words that occur in the reviews. For this assignment, we selected a 20 words to work with. These are:"
   ]
  },
  {
   "cell_type": "code",
   "execution_count": 137,
   "metadata": {
    "collapsed": true
   },
   "outputs": [],
   "source": [
    "significant_words = ['love', 'great', 'easy', 'old', 'little', 'perfect', 'loves', \n",
    "      'well', 'able', 'car', 'broke', 'less', 'even', 'waste', 'disappointed', \n",
    "      'work', 'product', 'money', 'would', 'return']"
   ]
  },
  {
   "cell_type": "code",
   "execution_count": 138,
   "metadata": {
    "collapsed": false
   },
   "outputs": [
    {
     "data": {
      "text/plain": [
       "20"
      ]
     },
     "execution_count": 138,
     "metadata": {},
     "output_type": "execute_result"
    }
   ],
   "source": [
    "len(significant_words)"
   ]
  },
  {
   "cell_type": "markdown",
   "metadata": {},
   "source": [
    "For each review, we will use the **word_count** column and trim out all words that are **not** in the **significant_words** list above. We will use the [SArray dictionary trim by keys functionality]( https://dato.com/products/create/docs/generated/graphlab.SArray.dict_trim_by_keys.html). Note that we are performing this on both the training and test set."
   ]
  },
  {
   "cell_type": "code",
   "execution_count": 234,
   "metadata": {
    "collapsed": false
   },
   "outputs": [],
   "source": [
    "train_data['word_count_subset'] = train_data['word_count'].dict_trim_by_keys(significant_words, exclude=False)\n",
    "test_data['word_count_subset'] = test_data['word_count'].dict_trim_by_keys(significant_words, exclude=False)\n"
   ]
  },
  {
   "cell_type": "markdown",
   "metadata": {},
   "source": [
    "Let's see what the first example of the dataset looks like:"
   ]
  },
  {
   "cell_type": "code",
   "execution_count": 140,
   "metadata": {
    "collapsed": false
   },
   "outputs": [
    {
     "data": {
      "text/plain": [
       "'it came early and was not disappointed. i love planet wise bags and now my wipe holder. it keps my osocozy wipes moist and does not leak. highly recommend it.'"
      ]
     },
     "execution_count": 140,
     "metadata": {},
     "output_type": "execute_result"
    }
   ],
   "source": [
    "train_data[0]['review']"
   ]
  },
  {
   "cell_type": "markdown",
   "metadata": {},
   "source": [
    "The **word_count** column had been working with before looks like the following:"
   ]
  },
  {
   "cell_type": "code",
   "execution_count": 141,
   "metadata": {
    "collapsed": false
   },
   "outputs": [
    {
     "name": "stdout",
     "output_type": "stream",
     "text": [
      "{'and': 3L, 'love': 1L, 'it': 3L, 'highly': 1L, 'osocozy': 1L, 'bags': 1L, 'leak': 1L, 'moist': 1L, 'does': 1L, 'recommend': 1L, 'was': 1L, 'wipes': 1L, 'disappointed': 1L, 'early': 1L, 'not': 2L, 'now': 1L, 'holder': 1L, 'wipe': 1L, 'keps': 1L, 'wise': 1L, 'i': 1L, 'planet': 1L, 'my': 2L, 'came': 1L}\n"
     ]
    }
   ],
   "source": [
    "print train_data[0]['word_count']"
   ]
  },
  {
   "cell_type": "markdown",
   "metadata": {},
   "source": [
    "Since we are only working with a subet of these words, the column **word_count_subset** is a subset of the above dictionary. In this example, only 2 `significant words` are present in this review."
   ]
  },
  {
   "cell_type": "code",
   "execution_count": 142,
   "metadata": {
    "collapsed": false
   },
   "outputs": [
    {
     "name": "stdout",
     "output_type": "stream",
     "text": [
      "{'love': 1L, 'disappointed': 1L}\n"
     ]
    }
   ],
   "source": [
    "print train_data[0]['word_count_subset']"
   ]
  },
  {
   "cell_type": "markdown",
   "metadata": {},
   "source": [
    "## Train a logistic regression model on a subset of data"
   ]
  },
  {
   "cell_type": "markdown",
   "metadata": {},
   "source": [
    "We will now build a classifier with **word_count_subset** as the feature and **sentiment** as the target. "
   ]
  },
  {
   "cell_type": "code",
   "execution_count": 143,
   "metadata": {
    "collapsed": false
   },
   "outputs": [
    {
     "name": "stdout",
     "output_type": "stream",
     "text": [
      "PROGRESS: Logistic regression:\n",
      "PROGRESS: --------------------------------------------------------\n",
      "PROGRESS: Number of examples          : 133416\n",
      "PROGRESS: Number of classes           : 2\n",
      "PROGRESS: Number of feature columns   : 1\n",
      "PROGRESS: Number of unpacked features : 20\n",
      "PROGRESS: Number of coefficients    : 21\n",
      "PROGRESS: Starting Newton Method\n",
      "PROGRESS: --------------------------------------------------------\n",
      "PROGRESS: +-----------+----------+--------------+-------------------+\n",
      "PROGRESS: | Iteration | Passes   | Elapsed Time | Training-accuracy |\n",
      "PROGRESS: +-----------+----------+--------------+-------------------+\n",
      "PROGRESS: | 1         | 2        | 0.187502     | 0.862917          |\n",
      "PROGRESS: | 2         | 3        | 0.328129     | 0.865713          |\n",
      "PROGRESS: | 3         | 4        | 0.453131     | 0.866478          |\n",
      "PROGRESS: | 4         | 5        | 0.593704     | 0.866748          |\n",
      "PROGRESS: | 5         | 6        | 0.718706     | 0.866815          |\n",
      "PROGRESS: | 6         | 7        | 0.859333     | 0.866815          |\n",
      "PROGRESS: +-----------+----------+--------------+-------------------+\n",
      "PROGRESS: SUCCESS: Optimal solution found.\n",
      "PROGRESS:\n"
     ]
    },
    {
     "data": {
      "text/plain": [
       "Class                         : LogisticClassifier\n",
       "\n",
       "Schema\n",
       "------\n",
       "Number of coefficients        : 21\n",
       "Number of examples            : 133416\n",
       "Number of classes             : 2\n",
       "Number of feature columns     : 1\n",
       "Number of unpacked features   : 20\n",
       "\n",
       "Hyperparameters\n",
       "---------------\n",
       "L1 penalty                    : 0.0\n",
       "L2 penalty                    : 0.01\n",
       "\n",
       "Training Summary\n",
       "----------------\n",
       "Solver                        : auto\n",
       "Solver iterations             : 6\n",
       "Solver status                 : SUCCESS: Optimal solution found.\n",
       "Training time (sec)           : 0.8906\n",
       "\n",
       "Settings\n",
       "--------\n",
       "Log-likelihood                : 44323.7254\n",
       "\n",
       "Highest Positive Coefficients\n",
       "-----------------------------\n",
       "word_count_subset[loves]      : 1.6773\n",
       "word_count_subset[perfect]    : 1.5145\n",
       "word_count_subset[love]       : 1.3654\n",
       "(intercept)                   : 1.2995\n",
       "word_count_subset[easy]       : 1.1937\n",
       "\n",
       "Lowest Negative Coefficients\n",
       "----------------------------\n",
       "word_count_subset[disappointed]: -2.3551\n",
       "word_count_subset[return]     : -2.1173\n",
       "word_count_subset[waste]      : -2.0428\n",
       "word_count_subset[broke]      : -1.658\n",
       "word_count_subset[money]      : -0.8979"
      ]
     },
     "execution_count": 143,
     "metadata": {},
     "output_type": "execute_result"
    }
   ],
   "source": [
    "simple_model = graphlab.logistic_classifier.create(train_data,\n",
    "                                                   target = 'sentiment',\n",
    "                                                   features=['word_count_subset'],\n",
    "                                                   validation_set=None)\n",
    "simple_model"
   ]
  },
  {
   "cell_type": "markdown",
   "metadata": {},
   "source": [
    "We can compute the classification accuracy using the `get_classification_accuracy` function you implemented earlier."
   ]
  },
  {
   "cell_type": "code",
   "execution_count": 144,
   "metadata": {
    "collapsed": false
   },
   "outputs": [
    {
     "data": {
      "text/plain": [
       "0.8693004559635229"
      ]
     },
     "execution_count": 144,
     "metadata": {},
     "output_type": "execute_result"
    }
   ],
   "source": [
    "get_classification_accuracy(simple_model, test_data, test_data['sentiment'])"
   ]
  },
  {
   "cell_type": "markdown",
   "metadata": {},
   "source": [
    "Now, we will inspect the weights (coefficients) of the **simple_model**:"
   ]
  },
  {
   "cell_type": "code",
   "execution_count": 145,
   "metadata": {
    "collapsed": false
   },
   "outputs": [
    {
     "data": {
      "text/html": [
       "<div style=\"max-height:1000px;max-width:1500px;overflow:auto;\"><table frame=\"box\" rules=\"cols\">\n",
       "    <tr>\n",
       "        <th style=\"padding-left: 1em; padding-right: 1em; text-align: center\">name</th>\n",
       "        <th style=\"padding-left: 1em; padding-right: 1em; text-align: center\">index</th>\n",
       "        <th style=\"padding-left: 1em; padding-right: 1em; text-align: center\">class</th>\n",
       "        <th style=\"padding-left: 1em; padding-right: 1em; text-align: center\">value</th>\n",
       "        <th style=\"padding-left: 1em; padding-right: 1em; text-align: center\">stderr</th>\n",
       "    </tr>\n",
       "    <tr>\n",
       "        <td style=\"padding-left: 1em; padding-right: 1em; text-align: center; vertical-align: top\">(intercept)</td>\n",
       "        <td style=\"padding-left: 1em; padding-right: 1em; text-align: center; vertical-align: top\">None</td>\n",
       "        <td style=\"padding-left: 1em; padding-right: 1em; text-align: center; vertical-align: top\">1</td>\n",
       "        <td style=\"padding-left: 1em; padding-right: 1em; text-align: center; vertical-align: top\">1.2995449552</td>\n",
       "        <td style=\"padding-left: 1em; padding-right: 1em; text-align: center; vertical-align: top\">0.0120888541331</td>\n",
       "    </tr>\n",
       "    <tr>\n",
       "        <td style=\"padding-left: 1em; padding-right: 1em; text-align: center; vertical-align: top\">word_count_subset</td>\n",
       "        <td style=\"padding-left: 1em; padding-right: 1em; text-align: center; vertical-align: top\">disappointed</td>\n",
       "        <td style=\"padding-left: 1em; padding-right: 1em; text-align: center; vertical-align: top\">1</td>\n",
       "        <td style=\"padding-left: 1em; padding-right: 1em; text-align: center; vertical-align: top\">-2.35509250061</td>\n",
       "        <td style=\"padding-left: 1em; padding-right: 1em; text-align: center; vertical-align: top\">0.0504149888557</td>\n",
       "    </tr>\n",
       "    <tr>\n",
       "        <td style=\"padding-left: 1em; padding-right: 1em; text-align: center; vertical-align: top\">word_count_subset</td>\n",
       "        <td style=\"padding-left: 1em; padding-right: 1em; text-align: center; vertical-align: top\">love</td>\n",
       "        <td style=\"padding-left: 1em; padding-right: 1em; text-align: center; vertical-align: top\">1</td>\n",
       "        <td style=\"padding-left: 1em; padding-right: 1em; text-align: center; vertical-align: top\">1.36543549368</td>\n",
       "        <td style=\"padding-left: 1em; padding-right: 1em; text-align: center; vertical-align: top\">0.0303546295109</td>\n",
       "    </tr>\n",
       "    <tr>\n",
       "        <td style=\"padding-left: 1em; padding-right: 1em; text-align: center; vertical-align: top\">word_count_subset</td>\n",
       "        <td style=\"padding-left: 1em; padding-right: 1em; text-align: center; vertical-align: top\">well</td>\n",
       "        <td style=\"padding-left: 1em; padding-right: 1em; text-align: center; vertical-align: top\">1</td>\n",
       "        <td style=\"padding-left: 1em; padding-right: 1em; text-align: center; vertical-align: top\">0.504256746398</td>\n",
       "        <td style=\"padding-left: 1em; padding-right: 1em; text-align: center; vertical-align: top\">0.021381300631</td>\n",
       "    </tr>\n",
       "    <tr>\n",
       "        <td style=\"padding-left: 1em; padding-right: 1em; text-align: center; vertical-align: top\">word_count_subset</td>\n",
       "        <td style=\"padding-left: 1em; padding-right: 1em; text-align: center; vertical-align: top\">product</td>\n",
       "        <td style=\"padding-left: 1em; padding-right: 1em; text-align: center; vertical-align: top\">1</td>\n",
       "        <td style=\"padding-left: 1em; padding-right: 1em; text-align: center; vertical-align: top\">-0.320555492996</td>\n",
       "        <td style=\"padding-left: 1em; padding-right: 1em; text-align: center; vertical-align: top\">0.0154311321362</td>\n",
       "    </tr>\n",
       "    <tr>\n",
       "        <td style=\"padding-left: 1em; padding-right: 1em; text-align: center; vertical-align: top\">word_count_subset</td>\n",
       "        <td style=\"padding-left: 1em; padding-right: 1em; text-align: center; vertical-align: top\">loves</td>\n",
       "        <td style=\"padding-left: 1em; padding-right: 1em; text-align: center; vertical-align: top\">1</td>\n",
       "        <td style=\"padding-left: 1em; padding-right: 1em; text-align: center; vertical-align: top\">1.67727145556</td>\n",
       "        <td style=\"padding-left: 1em; padding-right: 1em; text-align: center; vertical-align: top\">0.0482328275384</td>\n",
       "    </tr>\n",
       "    <tr>\n",
       "        <td style=\"padding-left: 1em; padding-right: 1em; text-align: center; vertical-align: top\">word_count_subset</td>\n",
       "        <td style=\"padding-left: 1em; padding-right: 1em; text-align: center; vertical-align: top\">little</td>\n",
       "        <td style=\"padding-left: 1em; padding-right: 1em; text-align: center; vertical-align: top\">1</td>\n",
       "        <td style=\"padding-left: 1em; padding-right: 1em; text-align: center; vertical-align: top\">0.520628636025</td>\n",
       "        <td style=\"padding-left: 1em; padding-right: 1em; text-align: center; vertical-align: top\">0.0214691475665</td>\n",
       "    </tr>\n",
       "    <tr>\n",
       "        <td style=\"padding-left: 1em; padding-right: 1em; text-align: center; vertical-align: top\">word_count_subset</td>\n",
       "        <td style=\"padding-left: 1em; padding-right: 1em; text-align: center; vertical-align: top\">work</td>\n",
       "        <td style=\"padding-left: 1em; padding-right: 1em; text-align: center; vertical-align: top\">1</td>\n",
       "        <td style=\"padding-left: 1em; padding-right: 1em; text-align: center; vertical-align: top\">-0.621700012425</td>\n",
       "        <td style=\"padding-left: 1em; padding-right: 1em; text-align: center; vertical-align: top\">0.0230330597946</td>\n",
       "    </tr>\n",
       "    <tr>\n",
       "        <td style=\"padding-left: 1em; padding-right: 1em; text-align: center; vertical-align: top\">word_count_subset</td>\n",
       "        <td style=\"padding-left: 1em; padding-right: 1em; text-align: center; vertical-align: top\">easy</td>\n",
       "        <td style=\"padding-left: 1em; padding-right: 1em; text-align: center; vertical-align: top\">1</td>\n",
       "        <td style=\"padding-left: 1em; padding-right: 1em; text-align: center; vertical-align: top\">1.19366189833</td>\n",
       "        <td style=\"padding-left: 1em; padding-right: 1em; text-align: center; vertical-align: top\">0.029288869202</td>\n",
       "    </tr>\n",
       "    <tr>\n",
       "        <td style=\"padding-left: 1em; padding-right: 1em; text-align: center; vertical-align: top\">word_count_subset</td>\n",
       "        <td style=\"padding-left: 1em; padding-right: 1em; text-align: center; vertical-align: top\">great</td>\n",
       "        <td style=\"padding-left: 1em; padding-right: 1em; text-align: center; vertical-align: top\">1</td>\n",
       "        <td style=\"padding-left: 1em; padding-right: 1em; text-align: center; vertical-align: top\">0.94469126948</td>\n",
       "        <td style=\"padding-left: 1em; padding-right: 1em; text-align: center; vertical-align: top\">0.0209509926591</td>\n",
       "    </tr>\n",
       "</table>\n",
       "[21 rows x 5 columns]<br/>Note: Only the head of the SFrame is printed.<br/>You can use print_rows(num_rows=m, num_columns=n) to print more rows and columns.\n",
       "</div>"
      ],
      "text/plain": [
       "Columns:\n",
       "\tname\tstr\n",
       "\tindex\tstr\n",
       "\tclass\tint\n",
       "\tvalue\tfloat\n",
       "\tstderr\tfloat\n",
       "\n",
       "Rows: 21\n",
       "\n",
       "Data:\n",
       "+-------------------+--------------+-------+-----------------+-----------------+\n",
       "|        name       |    index     | class |      value      |      stderr     |\n",
       "+-------------------+--------------+-------+-----------------+-----------------+\n",
       "|    (intercept)    |     None     |   1   |   1.2995449552  | 0.0120888541331 |\n",
       "| word_count_subset | disappointed |   1   |  -2.35509250061 | 0.0504149888557 |\n",
       "| word_count_subset |     love     |   1   |  1.36543549368  | 0.0303546295109 |\n",
       "| word_count_subset |     well     |   1   |  0.504256746398 |  0.021381300631 |\n",
       "| word_count_subset |   product    |   1   | -0.320555492996 | 0.0154311321362 |\n",
       "| word_count_subset |    loves     |   1   |  1.67727145556  | 0.0482328275384 |\n",
       "| word_count_subset |    little    |   1   |  0.520628636025 | 0.0214691475665 |\n",
       "| word_count_subset |     work     |   1   | -0.621700012425 | 0.0230330597946 |\n",
       "| word_count_subset |     easy     |   1   |  1.19366189833  |  0.029288869202 |\n",
       "| word_count_subset |    great     |   1   |  0.94469126948  | 0.0209509926591 |\n",
       "+-------------------+--------------+-------+-----------------+-----------------+\n",
       "[21 rows x 5 columns]\n",
       "Note: Only the head of the SFrame is printed.\n",
       "You can use print_rows(num_rows=m, num_columns=n) to print more rows and columns."
      ]
     },
     "execution_count": 145,
     "metadata": {},
     "output_type": "execute_result"
    }
   ],
   "source": [
    "simple_model.coefficients"
   ]
  },
  {
   "cell_type": "markdown",
   "metadata": {},
   "source": [
    "Let's sort the coefficients (in descending order) by the **value** to obtain the coefficients with the most positive effect on the sentiment."
   ]
  },
  {
   "cell_type": "code",
   "execution_count": 146,
   "metadata": {
    "collapsed": false
   },
   "outputs": [
    {
     "name": "stdout",
     "output_type": "stream",
     "text": [
      "+-------------------+--------------+-------+-----------------+-----------------+\n",
      "|        name       |    index     | class |      value      |      stderr     |\n",
      "+-------------------+--------------+-------+-----------------+-----------------+\n",
      "| word_count_subset |    loves     |   1   |  1.67727145556  | 0.0482328275384 |\n",
      "| word_count_subset |   perfect    |   1   |  1.51448626703  |  0.049861952294 |\n",
      "| word_count_subset |     love     |   1   |  1.36543549368  | 0.0303546295109 |\n",
      "|    (intercept)    |     None     |   1   |   1.2995449552  | 0.0120888541331 |\n",
      "| word_count_subset |     easy     |   1   |  1.19366189833  |  0.029288869202 |\n",
      "| word_count_subset |    great     |   1   |  0.94469126948  | 0.0209509926591 |\n",
      "| word_count_subset |    little    |   1   |  0.520628636025 | 0.0214691475665 |\n",
      "| word_count_subset |     well     |   1   |  0.504256746398 |  0.021381300631 |\n",
      "| word_count_subset |     able     |   1   |  0.191438302295 | 0.0337581955697 |\n",
      "| word_count_subset |     old      |   1   | 0.0853961886678 | 0.0200863423025 |\n",
      "| word_count_subset |     car      |   1   |  0.058834990068 | 0.0168291532091 |\n",
      "| word_count_subset |     less     |   1   | -0.209709815216 |  0.040505735954 |\n",
      "| word_count_subset |   product    |   1   | -0.320555492996 | 0.0154311321362 |\n",
      "| word_count_subset |    would     |   1   | -0.362308947711 | 0.0127544751985 |\n",
      "| word_count_subset |     even     |   1   |  -0.51173855127 | 0.0199612760261 |\n",
      "| word_count_subset |     work     |   1   | -0.621700012425 | 0.0230330597946 |\n",
      "| word_count_subset |    money     |   1   | -0.897884155776 | 0.0339936732836 |\n",
      "| word_count_subset |    broke     |   1   |  -1.65796447838 | 0.0580878907166 |\n",
      "| word_count_subset |    waste     |   1   |   -2.042773611  | 0.0644702932444 |\n",
      "| word_count_subset |    return    |   1   |  -2.11729659718 | 0.0578650807241 |\n",
      "| word_count_subset | disappointed |   1   |  -2.35509250061 | 0.0504149888557 |\n",
      "+-------------------+--------------+-------+-----------------+-----------------+\n",
      "[21 rows x 5 columns]\n",
      "\n"
     ]
    }
   ],
   "source": [
    "simple_model.coefficients.sort('value', ascending=False).print_rows(num_rows=21)"
   ]
  },
  {
   "cell_type": "markdown",
   "metadata": {},
   "source": [
    "**Quiz Question**: Consider the coefficients of **simple_model**. There should be 21 of them, an intercept term + one for each word in **significant_words**. How many of the 20 coefficients (corresponding to the 20 **significant_words** and *excluding the intercept term*) are positive for the `simple_model`?"
   ]
  },
  {
   "cell_type": "markdown",
   "metadata": {},
   "source": [
    "##10"
   ]
  },
  {
   "cell_type": "code",
   "execution_count": 168,
   "metadata": {
    "collapsed": false
   },
   "outputs": [
    {
     "name": "stdout",
     "output_type": "stream",
     "text": [
      "+---------+\n",
      "|    X1   |\n",
      "+---------+\n",
      "|  loves  |\n",
      "| perfect |\n",
      "|   love  |\n",
      "|   None  |\n",
      "|   easy  |\n",
      "|  great  |\n",
      "|  little |\n",
      "|   well  |\n",
      "|   able  |\n",
      "|   old   |\n",
      "|   car   |\n",
      "+---------+\n",
      "[11 rows x 1 columns]\n",
      "\n"
     ]
    }
   ],
   "source": [
    "positive_significant_words=simple_model.coefficients.sort('value', ascending=False)['index'][:11]\n",
    "graphlab.SFrame(positive_significant_words).print_rows(11)"
   ]
  },
  {
   "cell_type": "code",
   "execution_count": null,
   "metadata": {
    "collapsed": true
   },
   "outputs": [],
   "source": []
  },
  {
   "cell_type": "markdown",
   "metadata": {},
   "source": [
    "**Quiz Question**: Are the positive words in the **simple_model** (let us call them `positive_significant_words`) also positive words in the **sentiment_model**?"
   ]
  },
  {
   "cell_type": "code",
   "execution_count": 199,
   "metadata": {
    "collapsed": false
   },
   "outputs": [
    {
     "data": {
      "text/plain": [
       "{None: 1,\n",
       " 'able': 1,\n",
       " 'car': 1,\n",
       " 'easy': 1,\n",
       " 'great': 1,\n",
       " 'little': 1,\n",
       " 'love': 1,\n",
       " 'loves': 1,\n",
       " 'old': 1,\n",
       " 'perfect': 1,\n",
       " 'well': 1}"
      ]
     },
     "execution_count": 199,
     "metadata": {},
     "output_type": "execute_result"
    }
   ],
   "source": [
    "positive_significant_words[1]\n",
    "dic = dict()\n",
    "words1 = dict((m,1) for m in positive_significant_words )\n",
    "words1"
   ]
  },
  {
   "cell_type": "code",
   "execution_count": 222,
   "metadata": {
    "collapsed": false
   },
   "outputs": [
    {
     "name": "stdout",
     "output_type": "stream",
     "text": [
      "+------------+-------------------------------+-------+---------------+--------+\n",
      "|    name    |             index             | class |     value     | stderr |\n",
      "+------------+-------------------------------+-------+---------------+--------+\n",
      "| word_count |          mobileupdate         |   1   | 41.9846857331 |  None  |\n",
      "| word_count |            placeid            |   1   | 41.7353817239 |  None  |\n",
      "| word_count |            labelbox           |   1   | 41.1510061892 |  None  |\n",
      "| word_count | httpwwwamazoncomreviewrhgg... |   1   | 40.0453987161 |  None  |\n",
      "| word_count |          knobskeeping         |   1   | 36.2091068414 |  None  |\n",
      "| word_count |          chinaseveral         |   1   | 35.6239528378 |  None  |\n",
      "| word_count |              073              |   1   | 33.3530175085 |  None  |\n",
      "| word_count |           pailupdate          |   1   | 33.3530175085 |  None  |\n",
      "| word_count |          concurrently         |   1   | 33.3530175085 |  None  |\n",
      "| word_count |             71613             |   1   | 33.3530175085 |  None  |\n",
      "| word_count |          responseits          |   1   | 33.3031340446 |  None  |\n",
      "| word_count |           audiosound          |   1   | 33.3031340446 |  None  |\n",
      "| word_count |      exactsimilarupdated      |   1   | 33.3031340446 |  None  |\n",
      "| word_count |          bedroompros          |   1   | 33.3031340446 |  None  |\n",
      "| word_count |          soundwhether         |   1   | 33.3031340446 |  None  |\n",
      "| word_count |            reeltype           |   1   | 33.2225391628 |  None  |\n",
      "| word_count |           uniquefour          |   1   | 33.2225391628 |  None  |\n",
      "| word_count |             isive             |   1   | 33.2225391628 |  None  |\n",
      "| word_count |          adjustmentmy         |   1   | 33.2225391628 |  None  |\n",
      "| word_count |             gluey             |   1   | 33.1338295946 |  None  |\n",
      "| word_count |            bleach34           |   1   | 33.1338295946 |  None  |\n",
      "| word_count |            fiber34            |   1   | 33.1338295946 |  None  |\n",
      "| word_count |           childmaybe          |   1   | 33.0581731936 |  None  |\n",
      "| word_count |        withingsoriginal       |   1   | 32.4777344529 |  None  |\n",
      "| word_count |          straplovely          |   1   | 32.4716517065 |  None  |\n",
      "| word_count |          thisfabulous         |   1   | 32.4716517065 |  None  |\n",
      "| word_count |            linethe            |   1   | 32.4716517065 |  None  |\n",
      "| word_count |            2instead           |   1   | 32.4716517065 |  None  |\n",
      "| word_count |         deceptiveness         |   1   | 32.3917548045 |  None  |\n",
      "| word_count |            disclaim           |   1   | 32.3917548045 |  None  |\n",
      "| word_count |          polyethelene         |   1   | 32.3917548045 |  None  |\n",
      "| word_count |           howeveryou          |   1   | 32.3917548045 |  None  |\n",
      "| word_count |             hooped            |   1   | 32.3783852019 |  None  |\n",
      "| word_count |             villan            |   1   | 32.3004594128 |  None  |\n",
      "| word_count |           arestraps           |   1   | 32.3004594128 |  None  |\n",
      "| word_count |         usabilitylooks        |   1   | 32.3004594128 |  None  |\n",
      "| word_count |            alleged            |   1   | 32.3004594128 |  None  |\n",
      "| word_count |           crotchular          |   1   | 32.3004594128 |  None  |\n",
      "| word_count |          clipsbuckles         |   1   | 32.3004594128 |  None  |\n",
      "| word_count |       britaxclipsbuckles      |   1   | 32.3004594128 |  None  |\n",
      "| word_count |          beltprosthe          |   1   | 32.3004594128 |  None  |\n",
      "| word_count |            insert3            |   1   | 32.3004594128 |  None  |\n",
      "| word_count |         warrantythere         |   1   | 32.2872867027 |  None  |\n",
      "| word_count |            finallt            |   1   | 32.2384431886 |  None  |\n",
      "| word_count |            workhow            |   1   | 32.0712520536 |  None  |\n",
      "| word_count |           leakageif           |   1   | 32.0712520536 |  None  |\n",
      "| word_count |             tainer            |   1   | 32.0712520536 |  None  |\n",
      "| word_count |           breaksthe           |   1   | 32.0712520536 |  None  |\n",
      "| word_count |           milkshare           |   1   | 32.0712520536 |  None  |\n",
      "| word_count |          prefferably          |   1   | 32.0712520536 |  None  |\n",
      "| word_count |          possibletry          |   1   | 32.0712520536 |  None  |\n",
      "| word_count |           prettymuch          |   1   | 32.0712520536 |  None  |\n",
      "| word_count |          terminology          |   1   | 32.0712520536 |  None  |\n",
      "| word_count |           sanitaryi           |   1   | 32.0712520536 |  None  |\n",
      "| word_count |             rlwith            |   1   | 32.0712520536 |  None  |\n",
      "| word_count |        intensivealways        |   1   | 32.0712520536 |  None  |\n",
      "| word_count |            thisthat           |   1   | 32.0712520536 |  None  |\n",
      "| word_count |           milkthrow           |   1   | 32.0712520536 |  None  |\n",
      "| word_count |          eyedroppers          |   1   | 32.0712520536 |  None  |\n",
      "| word_count |            helland            |   1   | 32.0712520536 |  None  |\n",
      "| word_count |            usesorry           |   1   | 32.0712520536 |  None  |\n",
      "| word_count |            boilling           |   1   | 32.0712520536 |  None  |\n",
      "| word_count |        droppersanything       |   1   | 32.0712520536 |  None  |\n",
      "| word_count |          thesemostly          |   1   | 32.0712520536 |  None  |\n",
      "| word_count |              3002             |   1   | 32.0429128368 |  None  |\n",
      "| word_count |             nice4             |   1   | 32.0429128368 |  None  |\n",
      "| word_count |          comfortable7         |   1   | 32.0429128368 |  None  |\n",
      "| word_count |            instead5           |   1   | 32.0429128368 |  None  |\n",
      "| word_count |            wantuse            |   1   | 32.0429128368 |  None  |\n",
      "| word_count |          consoverall          |   1   | 32.0429128368 |  None  |\n",
      "| word_count |            pretty3            |   1   | 32.0429128368 |  None  |\n",
      "| word_count |            weight4            |   1   | 32.0429128368 |  None  |\n",
      "| word_count |           manually2           |   1   | 32.0429128368 |  None  |\n",
      "| word_count |            tubing3            |   1   | 32.0429128368 |  None  |\n",
      "| word_count |              boug             |   1   | 32.0429128368 |  None  |\n",
      "| word_count |           boughthere          |   1   | 32.0429128368 |  None  |\n",
      "| word_count |            upended            |   1   | 31.9534979497 |  None  |\n",
      "| word_count |          backfloater2         |   1   | 31.9534979497 |  None  |\n",
      "| word_count |           companyex           |   1   | 31.9534979497 |  None  |\n",
      "| word_count |             favori            |   1   | 31.9534979497 |  None  |\n",
      "| word_count |           butadiene           |   1   | 31.9534979497 |  None  |\n",
      "| word_count |             ducki             |   1   | 31.9534979497 |  None  |\n",
      "| word_count |            uncapped           |   1   | 31.9534979497 |  None  |\n",
      "| word_count |          commonlyused         |   1   | 31.9534979497 |  None  |\n",
      "| word_count |           askedboon           |   1   | 31.9534979497 |  None  |\n",
      "| word_count |            ethylene           |   1   | 31.9534979497 |  None  |\n",
      "| word_count |           hesitates           |   1   | 31.9534979497 |  None  |\n",
      "| word_count |           areaswhile          |   1   | 31.9534979497 |  None  |\n",
      "| word_count |          standardthe          |   1   | 31.9534979497 |  None  |\n",
      "| word_count |        childrenupdatewe       |   1   | 31.9534979497 |  None  |\n",
      "| word_count |       deadduckonherside       |   1   | 31.9534979497 |  None  |\n",
      "| word_count |           greenpeace          |   1   | 31.9534979497 |  None  |\n",
      "| word_count |            kratong            |   1   | 31.9534979497 |  None  |\n",
      "| word_count |            subtype            |   1   | 31.9534979497 |  None  |\n",
      "| word_count |              sebs             |   1   | 31.9534979497 |  None  |\n",
      "| word_count |             tryshe            |   1   | 31.9534979497 |  None  |\n",
      "| word_count |          minusthedisk         |   1   | 31.9534979497 |  None  |\n",
      "| word_count |           boborange           |   1   | 31.9534979497 |  None  |\n",
      "| word_count |           nipplesbut          |   1   | 31.5772793085 |  None  |\n",
      "| word_count |         semiroutinely         |   1   | 31.5772793085 |  None  |\n",
      "| word_count |           nipplesto           |   1   | 31.5772793085 |  None  |\n",
      "| word_count |            amatuer            |   1   | 31.1861827424 |  None  |\n",
      "| word_count |          handypeople          |   1   | 31.1861827424 |  None  |\n",
      "| word_count |           operaiton           |   1   | 31.1861827424 |  None  |\n",
      "| word_count |         installingbut         |   1   | 31.1861827424 |  None  |\n",
      "| word_count |            trick34            |   1   | 31.1861827424 |  None  |\n",
      "| word_count |       positioningmarking      |   1   | 31.1861827424 |  None  |\n",
      "| word_count |           unlacthing          |   1   | 31.1861827424 |  None  |\n",
      "| word_count |          viewing5seat         |   1   | 31.0879815432 |  None  |\n",
      "| word_count |         reclines8folds        |   1   | 31.0879815432 |  None  |\n",
      "| word_count |           nicer7seat          |   1   | 31.0879815432 |  None  |\n",
      "| word_count |            thicker6           |   1   | 31.0879815432 |  None  |\n",
      "| word_count |          equivalent2          |   1   | 31.0879815432 |  None  |\n",
      "| word_count |        apparatus3breaks       |   1   | 31.0879815432 |  None  |\n",
      "| word_count |         doublehonestly        |   1   | 31.0879815432 |  None  |\n",
      "| word_count |          quest4window         |   1   | 31.0879815432 |  None  |\n",
      "| word_count |          quest1canopy         |   1   | 31.0879815432 |  None  |\n",
      "| word_count |           sonofagun           |   1   | 31.0879815432 |  None  |\n",
      "| word_count |           quest9five          |   1   | 31.0879815432 |  None  |\n",
      "| word_count |          unlock10130          |   1   | 31.0879815432 |  None  |\n",
      "| word_count |           desolation          |   1   | 31.0604152512 |  None  |\n",
      "| word_count |             leaped            |   1   | 31.0604152512 |  None  |\n",
      "| word_count |         selfsupporting        |   1   | 31.0604152512 |  None  |\n",
      "| word_count |         sturdyseeming         |   1   | 31.0604152512 |  None  |\n",
      "| word_count |         companyupdate         |   1   | 30.8768951659 |  None  |\n",
      "| word_count |             11413             |   1   | 30.7432076676 |  None  |\n",
      "| word_count |           unorthodox          |   1   | 30.7432076676 |  None  |\n",
      "| word_count |            fairthe            |   1   | 30.4162931822 |  None  |\n",
      "| word_count |           doublesthe          |   1   | 30.4162931822 |  None  |\n",
      "| word_count |         shotconclusion        |   1   | 30.4162931822 |  None  |\n",
      "| word_count |            yearsyea           |   1   | 30.4162931822 |  None  |\n",
      "| word_count |         34u34horseshoe        |   1   | 30.4058961199 |  None  |\n",
      "| word_count |        thingedit52210i        |   1   | 30.2183221366 |  None  |\n",
      "| word_count |            noiseif            |   1   | 30.2183221366 |  None  |\n",
      "| word_count |          holderssnack         |   1   | 30.2183221366 |  None  |\n",
      "| word_count |          grassgravel          |   1   | 30.2183221366 |  None  |\n",
      "| word_count |         notasannoying         |   1   | 29.9502888355 |  None  |\n",
      "| word_count |          seriouslyif          |   1   | 29.9502888355 |  None  |\n",
      "| word_count |          lastsupdate          |   1   | 29.9502888355 |  None  |\n",
      "| word_count |          upstairsyeah         |   1   | 29.9502888355 |  None  |\n",
      "| word_count |           itbattery           |   1   | 29.9502888355 |  None  |\n",
      "| word_count |           unitsthey           |   1   | 29.9502888355 |  None  |\n",
      "| word_count |            cleartwo           |   1   | 29.9502888355 |  None  |\n",
      "| word_count |            yetbelt            |   1   | 29.9502888355 |  None  |\n",
      "| word_count |           greenseems          |   1   | 29.9502888355 |  None  |\n",
      "| word_count |            beforeno           |   1   | 29.9502888355 |  None  |\n",
      "| word_count |            nowshort           |   1   | 29.9502888355 |  None  |\n",
      "| word_count |         okaynotsogood         |   1   | 29.9502888355 |  None  |\n",
      "| word_count |           pointsgood          |   1   | 29.9502888355 |  None  |\n",
      "| word_count |           lowbattery          |   1   | 29.9502888355 |  None  |\n",
      "| word_count |           dayevening          |   1   | 29.9502888355 |  None  |\n",
      "| word_count |             byyeah            |   1   | 29.9502888355 |  None  |\n",
      "| word_count |           stoppedwe           |   1   |  29.901554561 |  None  |\n",
      "| word_count |             flawwe            |   1   |  29.901554561 |  None  |\n",
      "| word_count |           cleanermy           |   1   |  29.901554561 |  None  |\n",
      "| word_count |           heardfelt           |   1   |  29.901554561 |  None  |\n",
      "| word_count |            themlike           |   1   | 29.7759479814 |  None  |\n",
      "| word_count |         superficially         |   1   | 29.7759479814 |  None  |\n",
      "| word_count |           plasticin           |   1   | 29.7759479814 |  None  |\n",
      "| word_count |           ushowever           |   1   | 29.7759479814 |  None  |\n",
      "| word_count |        hydraulicwheeled       |   1   | 29.7759479814 |  None  |\n",
      "| word_count |            pushedi            |   1   | 28.9419583824 |  None  |\n",
      "| word_count |           ouncesince          |   1   | 28.8409061663 |  None  |\n",
      "| word_count |          compareyour          |   1   | 28.8409061663 |  None  |\n",
      "| word_count |          spilleasily          |   1   | 28.8409061663 |  None  |\n",
      "| word_count |         comparisonsmy         |   1   | 28.8409061663 |  None  |\n",
      "| word_count |           cabinetfor          |   1   | 28.8409061663 |  None  |\n",
      "| word_count |            thyroid            |   1   | 28.7955660649 |  None  |\n",
      "| word_count |           extrathin           |   1   | 28.5542389106 |  None  |\n",
      "| word_count |          flannellike          |   1   | 28.5542389106 |  None  |\n",
      "| word_count |          thesekushies         |   1   | 28.5542389106 |  None  |\n",
      "| word_count |          familythese          |   1   | 28.5542389106 |  None  |\n",
      "| word_count |     widelyavailablegerber     |   1   | 28.5542389106 |  None  |\n",
      "| word_count |           websitein           |   1   | 28.5127005223 |  None  |\n",
      "| word_count |           toofinally          |   1   | 28.5127005223 |  None  |\n",
      "| word_count |           breasmilk           |   1   | 28.5127005223 |  None  |\n",
      "| word_count |        wonderfullyhere        |   1   | 28.5127005223 |  None  |\n",
      "| word_count |          babychewsafe         |   1   | 27.9419205474 |  None  |\n",
      "| word_count |             whiner            |   1   | 27.9419205474 |  None  |\n",
      "| word_count |             agonot            |   1   | 27.9419205474 |  None  |\n",
      "| word_count |            crizzle            |   1   | 27.9419205474 |  None  |\n",
      "| word_count |             hereim            |   1   | 27.9419205474 |  None  |\n",
      "| word_count |           setupsetup          |   1   | 27.9336279259 |  None  |\n",
      "| word_count |       specificationsitem      |   1   | 27.9336279259 |  None  |\n",
      "| word_count |             19654             |   1   | 27.9336279259 |  None  |\n",
      "| word_count |            into9654           |   1   | 27.9336279259 |  None  |\n",
      "| word_count |          cabinetscons         |   1   | 27.9336279259 |  None  |\n",
      "| word_count |           breakablei          |   1   | 27.9336279259 |  None  |\n",
      "| word_count |          unisexnumber         |   1   | 27.9336279259 |  None  |\n",
      "| word_count |          fixtures9654         |   1   | 27.9336279259 |  None  |\n",
      "| word_count |           l715target          |   1   | 27.9336279259 |  None  |\n",
      "| word_count |           harm8217s           |   1   | 27.9336279259 |  None  |\n",
      "| word_count |            way9654            |   1   | 27.9336279259 |  None  |\n",
      "| word_count |        supervision9654        |   1   | 27.9336279259 |  None  |\n",
      "| word_count |          testingafter         |   1   | 27.9336279259 |  None  |\n",
      "| word_count |         ouncesproduct         |   1   | 27.9336279259 |  None  |\n",
      "| word_count |           inchesupc           |   1   | 27.9336279259 |  None  |\n",
      "| word_count |        878931007159item       |   1   | 27.9336279259 |  None  |\n",
      "| word_count |           paper9654           |   1   | 27.9336279259 |  None  |\n",
      "| word_count |          childrenpros         |   1   | 27.9336279259 |  None  |\n",
      "| word_count |           luckupdate          |   1   | 27.8206159205 |  None  |\n",
      "| word_count |            packback           |   1   | 27.6819638344 |  None  |\n",
      "| word_count |       accordinglyupdatei      |   1   | 27.6819638344 |  None  |\n",
      "| word_count |             sakeit            |   1   | 27.3795997444 |  None  |\n",
      "| word_count |           truetosize          |   1   | 27.3795997444 |  None  |\n",
      "| word_count |           wellsizing          |   1   | 27.3795997444 |  None  |\n",
      "| word_count |    constructionconstruction   |   1   | 27.3795997444 |  None  |\n",
      "| word_count |            wellsewn           |   1   | 27.3795997444 |  None  |\n",
      "| word_count |          bucksapiece          |   1   | 27.3795997444 |  None  |\n",
      "| word_count |            snapins            |   1   | 27.3795997444 |  None  |\n",
      "| word_count |          largelooking         |   1   | 27.3795997444 |  None  |\n",
      "| word_count |           8009696586          |   1   | 26.8522528354 |  None  |\n",
      "| word_count |           standardsi          |   1   | 26.8522528354 |  None  |\n",
      "| word_count |            strigent           |   1   | 26.8522528354 |  None  |\n",
      "| word_count |              3but             |   1   | 26.5204926379 |  None  |\n",
      "| word_count |          oraganickidz         |   1   | 26.4303513335 |  None  |\n",
      "| word_count |           quicktake           |   1   | 26.0200877644 |  None  |\n",
      "| word_count |           blankethes          |   1   | 26.0200877644 |  None  |\n",
      "| word_count |           claimedour          |   1   | 26.0200877644 |  None  |\n",
      "| word_count |            pulltab            |   1   | 26.0200877644 |  None  |\n",
      "| word_count |             bothas            |   1   | 26.0200877644 |  None  |\n",
      "| word_count |          howeverthis          |   1   | 26.0200877644 |  None  |\n",
      "| word_count |            itemsids           |   1   | 26.0200877644 |  None  |\n",
      "| word_count |         sleepsacksize         |   1   | 26.0200877644 |  None  |\n",
      "| word_count |   constantlyappearancefabric  |   1   | 26.0200877644 |  None  |\n",
      "| word_count |            fuzzball           |   1   | 26.0200877644 |  None  |\n",
      "| word_count |         blanketquality        |   1   | 26.0200877644 |  None  |\n",
      "| word_count |          somehowthis          |   1   | 25.8528487663 |  None  |\n",
      "| word_count |            bornwhen           |   1   |  25.734394739 |  None  |\n",
      "| word_count |             ezview            |   1   |  25.350199113 |  None  |\n",
      "| word_count |            punchers           |   1   | 25.1513730883 |  None  |\n",
      "| word_count |            geminiim           |   1   | 24.8748263581 |  None  |\n",
      "| word_count |           worseafter          |   1   | 24.7741926855 |  None  |\n",
      "| word_count |            painsso            |   1   | 24.7741926855 |  None  |\n",
      "| word_count |           thoughtsi           |   1   | 24.7110675883 |  None  |\n",
      "| word_count |           amazonpoor          |   1   | 24.6632514389 |  None  |\n",
      "| word_count |           friendlymy          |   1   | 24.6632514389 |  None  |\n",
      "| word_count |           constipate          |   1   | 24.6614061313 |  None  |\n",
      "| word_count |             unsize            |   1   | 24.4448234396 |  None  |\n",
      "| word_count |          coldpouring          |   1   | 24.3349299826 |  None  |\n",
      "| word_count |            themside           |   1   |  24.259052358 |  None  |\n",
      "| word_count |         nothingplusses        |   1   | 24.2529268537 |  None  |\n",
      "| word_count | wwwamazoncomboppywaterresi... |   1   | 24.2529268537 |  None  |\n",
      "| word_count |            usother            |   1   | 24.2529268537 |  None  |\n",
      "| word_count |         salenegatives         |   1   | 24.2529268537 |  None  |\n",
      "| word_count |            coverif            |   1   | 24.2529268537 |  None  |\n",
      "| word_count |            noiseat            |   1   | 24.1973582698 |  None  |\n",
      "| word_count |          aroundaside          |   1   | 23.9705792314 |  None  |\n",
      "| word_count |            capsince           |   1   | 23.8442027772 |  None  |\n",
      "| word_count |             ohbtw             |   1   | 23.8442027772 |  None  |\n",
      "| word_count |           cupswhich           |   1   | 23.8442027772 |  None  |\n",
      "| word_count |           nonbroken           |   1   | 23.8442027772 |  None  |\n",
      "| word_count |           worsethrew          |   1   | 23.8442027772 |  None  |\n",
      "| word_count |           goodleaks           |   1   | 23.8442027772 |  None  |\n",
      "| word_count |          pressureand          |   1   | 23.8442027772 |  None  |\n",
      "| word_count |           buildwork           |   1   | 23.5979080438 |  None  |\n",
      "| word_count |        yourselfoverall        |   1   | 23.5979080438 |  None  |\n",
      "| word_count |            reripped           |   1   | 23.5979080438 |  None  |\n",
      "| word_count |          wantedthere          |   1   | 23.5404595903 |  None  |\n",
      "| word_count |          neckhowever          |   1   | 23.5404595903 |  None  |\n",
      "| word_count |           crunchies           |   1   | 23.5058187538 |  None  |\n",
      "| word_count |             aerate            |   1   | 23.3845101196 |  None  |\n",
      "| word_count |           settingnow          |   1   | 23.2980381023 |  None  |\n",
      "| word_count |           snugginess          |   1   | 23.2899476029 |  None  |\n",
      "| word_count |            unibody            |   1   | 23.2417480963 |  None  |\n",
      "| word_count |           moldthese           |   1   |  22.833200031 |  None  |\n",
      "| word_count |          compliantfor         |   1   |  22.833200031 |  None  |\n",
      "| word_count |             downon            |   1   |  22.833200031 |  None  |\n",
      "| word_count |         directpumping         |   1   | 22.6806234322 |  None  |\n",
      "| word_count |              loks             |   1   | 22.6705571945 |  None  |\n",
      "| word_count |           frugality           |   1   | 22.6705571945 |  None  |\n",
      "| word_count |            sheetyes           |   1   | 22.6705571945 |  None  |\n",
      "| word_count |           toddlerget          |   1   | 22.6705571945 |  None  |\n",
      "| word_count |            twosome            |   1   | 22.6705571945 |  None  |\n",
      "| word_count |          cabinetsave          |   1   | 22.6705571945 |  None  |\n",
      "| word_count |             71175             |   1   | 22.6705571945 |  None  |\n",
      "| word_count |        throughconsider        |   1   | 22.6705571945 |  None  |\n",
      "| word_count |          safety1stcom         |   1   | 22.6705571945 |  None  |\n",
      "| word_count |          doorsbefore          |   1   | 22.6705571945 |  None  |\n",
      "| word_count |           sensehope           |   1   | 22.6705571945 |  None  |\n",
      "| word_count |           itnormally          |   1   | 22.6118344281 |  None  |\n",
      "| word_count |         yearschildren         |   1   | 22.6116915168 |  None  |\n",
      "| word_count |           wipesmost           |   1   | 22.5990176509 |  None  |\n",
      "| word_count |          referencewe          |   1   | 22.5990176509 |  None  |\n",
      "| word_count |           jellyroll           |   1   | 22.5990176509 |  None  |\n",
      "| word_count |           bordeauxs           |   1   | 22.5990176509 |  None  |\n",
      "| word_count |           statusshes          |   1   | 22.5990176509 |  None  |\n",
      "| word_count |          pinninggood          |   1   | 22.5990176509 |  None  |\n",
      "| word_count |             soiler            |   1   | 22.5990176509 |  None  |\n",
      "| word_count |            loveweve           |   1   | 22.5990176509 |  None  |\n",
      "| word_count |           walkscons           |   1   | 22.5637950593 |  None  |\n",
      "| word_count |      disappointingupdate      |   1   | 22.5175684829 |  None  |\n",
      "| word_count |            09282012           |   1   | 22.5175684829 |  None  |\n",
      "| word_count |           offperhaps          |   1   | 22.3973739145 |  None  |\n",
      "| word_count |         brokeimportant        |   1   | 22.3973739145 |  None  |\n",
      "| word_count |           alikehere           |   1   | 22.3588651996 |  None  |\n",
      "| word_count |           awhilethe           |   1   | 22.3588651996 |  None  |\n",
      "| word_count |           carrieron           |   1   | 22.3588651996 |  None  |\n",
      "| word_count |          thingspeople         |   1   | 22.3344125542 |  None  |\n",
      "| word_count |         homedepotlowes        |   1   | 22.3156024537 |  None  |\n",
      "| word_count |              lbf              |   1   | 22.3156024537 |  None  |\n",
      "| word_count |        postspringguide        |   1   | 22.3156024537 |  None  |\n",
      "| word_count |            speccons           |   1   | 22.3156024537 |  None  |\n",
      "| word_count |         experiencepros        |   1   | 22.3156024537 |  None  |\n",
      "| word_count |            featurea           |   1   | 22.3156024537 |  None  |\n",
      "| word_count |         selfthreading         |   1   | 22.3156024537 |  None  |\n",
      "| word_count |         nonethelessone        |   1   | 22.3156024537 |  None  |\n",
      "| word_count |          stickingout          |   1   | 22.3156024537 |  None  |\n",
      "| word_count |        pressurefriction       |   1   | 22.3156024537 |  None  |\n",
      "| word_count |           granddaugh          |   1   | 22.1683316236 |  None  |\n",
      "| word_count |           60countare          |   1   | 21.8885041642 |  None  |\n",
      "| word_count |           itamerican          |   1   | 21.8885041642 |  None  |\n",
      "| word_count |           easilyeach          |   1   | 21.8885041642 |  None  |\n",
      "| word_count |          presstoopen          |   1   | 21.8885041642 |  None  |\n",
      "| word_count |           itpurchase          |   1   | 21.8885041642 |  None  |\n",
      "| word_count |           ascabinet           |   1   | 21.8885041642 |  None  |\n",
      "| word_count |       positioningtesting      |   1   | 21.8885041642 |  None  |\n",
      "| word_count |             w80004            |   1   | 21.8885041642 |  None  |\n",
      "| word_count |              4ea              |   1   | 21.8885041642 |  None  |\n",
      "| word_count |              lt38             |   1   | 21.8885041642 |  None  |\n",
      "| word_count |          groupsafety          |   1   | 21.8885041642 |  None  |\n",
      "| word_count |            itkidco            |   1   | 21.8885041642 |  None  |\n",
      "| word_count |              hu5              |   1   | 21.8885041642 |  None  |\n",
      "| word_count |            inwilmar           |   1   | 21.8885041642 |  None  |\n",
      "| word_count |           drawerall           |   1   | 21.8885041642 |  None  |\n",
      "| word_count |         setfacilitates        |   1   | 21.8885041642 |  None  |\n",
      "| word_count |           closedsafe          |   1   | 21.8885041642 |  None  |\n",
      "| word_count |            doorthis           |   1   | 21.8885041642 |  None  |\n",
      "| word_count |              840              |   1   | 21.7803072543 |  None  |\n",
      "| word_count |             theywe            |   1   | 21.6395221823 |  None  |\n",
      "| word_count |           itwashing           |   1   | 21.4885072478 |  None  |\n",
      "| word_count |       diaperingbumgenius      |   1   | 21.4885072478 |  None  |\n",
      "| word_count |        notbiodegradable       |   1   | 21.4885072478 |  None  |\n",
      "| word_count |           curriculum          |   1   | 21.4885072478 |  None  |\n",
      "| word_count |            sicking            |   1   | 21.4885072478 |  None  |\n",
      "| word_count |           loosetight          |   1   | 21.4885072478 |  None  |\n",
      "| word_count |          diaperssome          |   1   | 21.4885072478 |  None  |\n",
      "| word_count |          longstoring          |   1   | 21.4885072478 |  None  |\n",
      "| word_count |            bootcamp           |   1   | 21.4885072478 |  None  |\n",
      "| word_count |             dryin             |   1   | 21.4885072478 |  None  |\n",
      "| word_count |           34berry34           |   1   | 21.4710592244 |  None  |\n",
      "| word_count |            ahhhhhhh           |   1   | 21.3880631136 |  None  |\n",
      "| word_count |         escalatorthese        |   1   |  21.200823053 |  None  |\n",
      "| word_count |          awesome2just         |   1   |  21.200823053 |  None  |\n",
      "| word_count |           notedthere          |   1   |  21.200823053 |  None  |\n",
      "| word_count |        multivalvestraw        |   1   |  21.200823053 |  None  |\n",
      "| word_count |             cups5             |   1   |  21.200823053 |  None  |\n",
      "| word_count |          encroachment         |   1   |  21.200823053 |  None  |\n",
      "| word_count |            nonglass           |   1   |  21.200823053 |  None  |\n",
      "| word_count |         travelingjust         |   1   |  21.200823053 |  None  |\n",
      "| word_count |             these6            |   1   |  21.200823053 |  None  |\n",
      "| word_count |             nice7             |   1   |  21.200823053 |  None  |\n",
      "| word_count |            routeit            |   1   | 21.0438128907 |  None  |\n",
      "| word_count |           towermotor          |   1   | 20.9186845484 |  None  |\n",
      "| word_count |          twistedmuch          |   1   | 20.9186845484 |  None  |\n",
      "| word_count |    technicallymechanically    |   1   | 20.9186845484 |  None  |\n",
      "| word_count |            34poo34            |   1   | 20.9065383587 |  None  |\n",
      "| word_count |             gived             |   1   | 20.8404959886 |  None  |\n",
      "| word_count |            tweeked            |   1   | 20.7971188338 |  None  |\n",
      "| word_count |            bottons            |   1   | 20.7454166644 |  None  |\n",
      "| word_count |             burper            |   1   |  20.557277499 |  None  |\n",
      "| word_count |           medelayoud          |   1   | 20.3990046289 |  None  |\n",
      "| word_count |        improvedquieter        |   1   | 20.3990046289 |  None  |\n",
      "| word_count |            motorif            |   1   | 20.3990046289 |  None  |\n",
      "| word_count |             bttthe            |   1   | 20.3990046289 |  None  |\n",
      "| word_count |            loudbest           |   1   | 20.3990046289 |  None  |\n",
      "| word_count |        replacementwell        |   1   | 20.3990046289 |  None  |\n",
      "| word_count |              woks             |   1   | 20.3990046289 |  None  |\n",
      "| word_count |       designimprovements      |   1   | 20.3990046289 |  None  |\n",
      "| word_count |           drainsome           |   1   | 20.3056004541 |  None  |\n",
      "| word_count |           worththis           |   1   | 20.3056004541 |  None  |\n",
      "| word_count |             meleda            |   1   | 20.2213310038 |  None  |\n",
      "| word_count |            leakedi            |   1   | 20.2058744817 |  None  |\n",
      "| word_count |             onceif            |   1   | 20.1692538272 |  None  |\n",
      "| word_count |            customor           |   1   | 20.0861700127 |  None  |\n",
      "| word_count |           poundswhen          |   1   | 20.0413870499 |  None  |\n",
      "| word_count |          babyrattles          |   1   | 19.8875701289 |  None  |\n",
      "| word_count |            fallback           |   1   | 19.8557034561 |  None  |\n",
      "| word_count |           fastmoving          |   1   | 19.8261625767 |  None  |\n",
      "| word_count |           safetylock          |   1   | 19.8071790082 |  None  |\n",
      "| word_count |           kickingfor          |   1   | 19.8071790082 |  None  |\n",
      "| word_count |           babythink           |   1   | 19.7473297973 |  None  |\n",
      "| word_count |           wantedthey          |   1   | 19.5782585722 |  None  |\n",
      "| word_count |              lat              |   1   | 19.5014467546 |  None  |\n",
      "| word_count |            pillow2            |   1   | 19.4403027388 |  None  |\n",
      "| word_count |             etcget            |   1   | 19.3829006691 |  None  |\n",
      "| word_count |         vinyloverwood         |   1   |  19.283268965 |  None  |\n",
      "| word_count |          knowoverall          |   1   | 19.0365103896 |  None  |\n",
      "| word_count |           holestears          |   1   | 19.0258355164 |  None  |\n",
      "| word_count |             offsi             |   1   |  19.022016486 |  None  |\n",
      "| word_count |          feedthrough          |   1   | 19.0213303321 |  None  |\n",
      "| word_count |          featurebelt          |   1   | 19.0213303321 |  None  |\n",
      "| word_count |           betterive           |   1   | 19.0213303321 |  None  |\n",
      "| word_count |           restupper           |   1   | 19.0213303321 |  None  |\n",
      "| word_count |          knowconsumer         |   1   | 19.0213303321 |  None  |\n",
      "| word_count |           torsional           |   1   | 19.0213303321 |  None  |\n",
      "| word_count |           easycheap           |   1   | 19.0213303321 |  None  |\n",
      "| word_count |            kidsgood           |   1   | 19.0213303321 |  None  |\n",
      "| word_count |          conclusions          |   1   | 19.0213303321 |  None  |\n",
      "| word_count |            factions           |   1   | 19.0213303321 |  None  |\n",
      "| word_count |            geeeezzz           |   1   | 19.0213303321 |  None  |\n",
      "| word_count |            helpwhat           |   1   | 19.0213303321 |  None  |\n",
      "| word_count |          milliseconds         |   1   | 19.0213303321 |  None  |\n",
      "| word_count |             maskif            |   1   | 19.0213303321 |  None  |\n",
      "| word_count |          strongermore         |   1   | 19.0213303321 |  None  |\n",
      "| word_count |       intentionalbuying       |   1   | 19.0213303321 |  None  |\n",
      "| word_count |          regulatetest         |   1   | 19.0213303321 |  None  |\n",
      "| word_count |          articletest          |   1   | 19.0213303321 |  None  |\n",
      "| word_count |           systemhere          |   1   | 19.0213303321 |  None  |\n",
      "| word_count |            dynamics           |   1   | 19.0213303321 |  None  |\n",
      "| word_count |            oneline            |   1   | 19.0213303321 |  None  |\n",
      "| word_count |           negatories          |   1   | 19.0213303321 |  None  |\n",
      "| word_count |          unsurvivable         |   1   | 19.0213303321 |  None  |\n",
      "| word_count |         pullingguiding        |   1   | 19.0213303321 |  None  |\n",
      "| word_count |           inversely           |   1   | 19.0213303321 |  None  |\n",
      "| word_count |           litigious           |   1   | 19.0213303321 |  None  |\n",
      "| word_count |          numberupdate         |   1   | 19.0206441761 |  None  |\n",
      "| word_count |             222012            |   1   | 19.0206441761 |  None  |\n",
      "| word_count |          photoproduct         |   1   | 18.9115987381 |  None  |\n",
      "| word_count |           jambonosi           |   1   | 18.9115987381 |  None  |\n",
      "| word_count |          ounceshaving         |   1   | 18.9115987381 |  None  |\n",
      "| word_count |       easilymaneuverable      |   1   |  18.863117888 |  None  |\n",
      "| word_count |            seattray           |   1   |  18.863117888 |  None  |\n",
      "| word_count |           awaythird           |   1   |  18.863117888 |  None  |\n",
      "| word_count |            momentid           |   1   |  18.863117888 |  None  |\n",
      "| word_count |          thricedaily          |   1   |  18.863117888 |  None  |\n",
      "| word_count |            dynamite           |   1   |  18.863117888 |  None  |\n",
      "| word_count |     sidetosidefronttoback     |   1   | 18.7479085889 |  None  |\n",
      "| word_count |       wingsunfortunately      |   1   | 18.7479085889 |  None  |\n",
      "| word_count |              dope             |   1   |  18.733157919 |  None  |\n",
      "| word_count |           diaperthen          |   1   | 18.7016876357 |  None  |\n",
      "| word_count |             etc34             |   1   | 18.6978240674 |  None  |\n",
      "| word_count |          trashbaggish         |   1   | 18.5881553173 |  None  |\n",
      "| word_count |           processit           |   1   | 18.5753773838 |  None  |\n",
      "| word_count |            manmight           |   1   | 18.5663875414 |  None  |\n",
      "| word_count |           forputting          |   1   | 18.5319249597 |  None  |\n",
      "| word_count |             thngs             |   1   | 18.4345164743 |  None  |\n",
      "| word_count |            breakoh            |   1   | 18.3949915664 |  None  |\n",
      "| word_count |              5in1             |   1   | 18.3812747949 |  None  |\n",
      "| word_count |           gymlittle           |   1   | 18.3812747949 |  None  |\n",
      "| word_count |             175lbs            |   1   | 18.1681033599 |  None  |\n",
      "| word_count |           tooplease           |   1   | 18.0053861032 |  None  |\n",
      "| word_count |          wonderfulim          |   1   | 18.0053861032 |  None  |\n",
      "| word_count |              vide             |   1   | 17.8995903763 |  None  |\n",
      "| word_count |           definaltly          |   1   | 17.8445313645 |  None  |\n",
      "| word_count |              34t              |   1   | 17.8445313645 |  None  |\n",
      "| word_count |             thown             |   1   | 17.8378997717 |  None  |\n",
      "| word_count |           adjusable           |   1   | 17.7891678577 |  None  |\n",
      "| word_count |          hardwaredont         |   1   | 17.7573611653 |  None  |\n",
      "| word_count |              myla             |   1   | 17.6933533368 |  None  |\n",
      "| word_count |           hospitalin          |   1   | 17.6900747666 |  None  |\n",
      "| word_count |             fined             |   1   | 17.6740161482 |  None  |\n",
      "| word_count |              4450             |   1   | 17.6740161482 |  None  |\n",
      "| word_count |         investmenttips        |   1   | 17.6740161482 |  None  |\n",
      "| word_count |           175months           |   1   | 17.6740161482 |  None  |\n",
      "| word_count |            tradeput           |   1   | 17.6582918214 |  None  |\n",
      "| word_count |          accessedited         |   1   | 17.6413113893 |  None  |\n",
      "| word_count |          thereproduct         |   1   | 17.6390828532 |  None  |\n",
      "| word_count |             manky             |   1   | 17.5891915019 |  None  |\n",
      "| word_count |        loudhighpitched        |   1   | 17.4859882023 |  None  |\n",
      "| word_count |             twigs             |   1   | 17.4767735998 |  None  |\n",
      "| word_count |            clusters           |   1   | 17.4767735998 |  None  |\n",
      "| word_count |          birdsnothing         |   1   | 17.4767735998 |  None  |\n",
      "| word_count |         picturedthree         |   1   | 17.4767735998 |  None  |\n",
      "| word_count |          34carrier34          |   1   | 17.4695692391 |  None  |\n",
      "| word_count |           barnthouse          |   1   | 17.4378778777 |  None  |\n",
      "| word_count |             leakit            |   1   | 17.4049995731 |  None  |\n",
      "| word_count |            havewhen           |   1   | 17.4049346518 |  None  |\n",
      "| word_count |          protrusions          |   1   | 17.3427817755 |  None  |\n",
      "| word_count |          cooperating          |   1   | 17.3051360639 |  None  |\n",
      "| word_count |           trademart           |   1   | 17.2924865424 |  None  |\n",
      "| word_count |           refundwhen          |   1   | 17.2924865424 |  None  |\n",
      "| word_count |           openingsi           |   1   | 17.2919481558 |  None  |\n",
      "| word_count |            breezes            |   1   | 17.2779749915 |  None  |\n",
      "| word_count |             2014i             |   1   | 17.2683089883 |  None  |\n",
      "| word_count |              perf             |   1   | 17.2320951314 |  None  |\n",
      "| word_count |          occuroverall         |   1   | 17.2192181541 |  None  |\n",
      "| word_count |         happenedwhile         |   1   | 17.2192181541 |  None  |\n",
      "| word_count |           34squat34           |   1   | 17.1673834729 |  None  |\n",
      "| word_count |           keyswhich           |   1   | 17.1274120138 |  None  |\n",
      "| word_count |           pharmacyi           |   1   | 17.0411486349 |  None  |\n",
      "| word_count |            disanas            |   1   | 17.0411486349 |  None  |\n",
      "| word_count |        kissasruskovilla       |   1   | 17.0411486349 |  None  |\n",
      "| word_count |          worthdisana          |   1   | 17.0411486349 |  None  |\n",
      "| word_count |            woolies            |   1   | 17.0411486349 |  None  |\n",
      "| word_count |           itwhomever          |   1   | 17.0198089808 |  None  |\n",
      "| word_count |             allyou            |   1   | 16.9888198315 |  None  |\n",
      "| word_count |           thesebinky          |   1   | 16.9858276505 |  None  |\n",
      "| word_count |          plasticizers         |   1   | 16.9717413358 |  None  |\n",
      "| word_count |       purchasedassembled      |   1   | 16.9167780565 |  None  |\n",
      "| word_count |           lapbuckle           |   1   | 16.8839599807 |  None  |\n",
      "| word_count |             onwith            |   1   | 16.8655039678 |  None  |\n",
      "| word_count |            suction6           |   1   | 16.8391861394 |  None  |\n",
      "| word_count |              qood             |   1   | 16.7858122468 |  None  |\n",
      "| word_count |           fishtailed          |   1   | 16.7537868064 |  None  |\n",
      "| word_count |          supplementer         |   1   | 16.7435273591 |  None  |\n",
      "| word_count |           thesesome           |   1   | 16.7078737396 |  None  |\n",
      "| word_count |           overwhich           |   1   | 16.6706470645 |  None  |\n",
      "| word_count |           34tries34           |   1   | 16.6160180248 |  None  |\n",
      "| word_count |             isnti             |   1   | 16.6155980819 |  None  |\n",
      "+------------+-------------------------------+-------+---------------+--------+\n",
      "[121713 rows x 5 columns]\n",
      "\n"
     ]
    }
   ],
   "source": [
    "sentiment_model.coefficients.sort('value', ascending=False).sort('value', ascending=False).print_rows(num_rows=500)"
   ]
  },
  {
   "cell_type": "code",
   "execution_count": null,
   "metadata": {
    "collapsed": true
   },
   "outputs": [],
   "source": []
  },
  {
   "cell_type": "code",
   "execution_count": 232,
   "metadata": {
    "collapsed": false
   },
   "outputs": [
    {
     "data": {
      "text/plain": [
       "dict"
      ]
     },
     "execution_count": 232,
     "metadata": {},
     "output_type": "execute_result"
    }
   ],
   "source": [
    "words2 = dict((m,1) for m in sentiment_model.coefficients['index'])\n",
    "#sort('value', ascending=False).print_rows(num_rows=100)\n",
    "words2\n",
    "\n",
    "type(words2)"
   ]
  },
  {
   "cell_type": "code",
   "execution_count": 231,
   "metadata": {
    "collapsed": false
   },
   "outputs": [
    {
     "ename": "AttributeError",
     "evalue": "'dict' object has no attribute 'dict_trim_by_keys'",
     "output_type": "error",
     "traceback": [
      "\u001b[1;31m---------------------------------------------------------------------------\u001b[0m",
      "\u001b[1;31mAttributeError\u001b[0m                            Traceback (most recent call last)",
      "\u001b[1;32m<ipython-input-231-a092d08cc030>\u001b[0m in \u001b[0;36m<module>\u001b[1;34m()\u001b[0m\n\u001b[1;32m----> 1\u001b[1;33m \u001b[0mwords2\u001b[0m\u001b[1;33m.\u001b[0m\u001b[0mdict_trim_by_keys\u001b[0m\u001b[1;33m(\u001b[0m\u001b[0mpositive_significant_words\u001b[0m\u001b[1;33m,\u001b[0m \u001b[0mexclude\u001b[0m\u001b[1;33m=\u001b[0m\u001b[0mFalse\u001b[0m\u001b[1;33m)\u001b[0m\u001b[1;33m\u001b[0m\u001b[0m\n\u001b[0m",
      "\u001b[1;31mAttributeError\u001b[0m: 'dict' object has no attribute 'dict_trim_by_keys'"
     ]
    }
   ],
   "source": [
    "words2.dict_trim_by_keys(positive_significant_words, exclude=False)"
   ]
  },
  {
   "cell_type": "markdown",
   "metadata": {},
   "source": [
    "# Comparing models"
   ]
  },
  {
   "cell_type": "markdown",
   "metadata": {},
   "source": [
    "We will now compare the accuracy of the **sentiment_model** and the **simple_model** using the `get_classification_accuracy` method you implemented above.\n",
    "\n",
    "First, compute the classification accuracy of the **sentiment_model** on the **train_data**:"
   ]
  },
  {
   "cell_type": "code",
   "execution_count": 178,
   "metadata": {
    "collapsed": false
   },
   "outputs": [
    {
     "data": {
      "text/plain": [
       "0.979440247046831"
      ]
     },
     "execution_count": 178,
     "metadata": {},
     "output_type": "execute_result"
    }
   ],
   "source": [
    "get_classification_accuracy(sentiment_model,train_data,train_data['sentiment'])"
   ]
  },
  {
   "cell_type": "markdown",
   "metadata": {},
   "source": [
    "Now, compute the classification accuracy of the **simple_model** on the **train_data**:"
   ]
  },
  {
   "cell_type": "code",
   "execution_count": 179,
   "metadata": {
    "collapsed": false
   },
   "outputs": [
    {
     "data": {
      "text/plain": [
       "0.8668150746537147"
      ]
     },
     "execution_count": 179,
     "metadata": {},
     "output_type": "execute_result"
    }
   ],
   "source": [
    "get_classification_accuracy(simple_model,train_data,train_data['sentiment'])"
   ]
  },
  {
   "cell_type": "markdown",
   "metadata": {},
   "source": [
    "**Quiz Question**: Which model (**sentiment_model** or **simple_model**) has higher accuracy on the TRAINING set?"
   ]
  },
  {
   "cell_type": "markdown",
   "metadata": {},
   "source": [
    "Now, we will repeat this excercise on the **test_data**. Start by computing the classification accuracy of the **sentiment_model** on the **test_data**:"
   ]
  },
  {
   "cell_type": "code",
   "execution_count": 180,
   "metadata": {
    "collapsed": false
   },
   "outputs": [
    {
     "data": {
      "text/plain": [
       "0.9145368370530358"
      ]
     },
     "execution_count": 180,
     "metadata": {},
     "output_type": "execute_result"
    }
   ],
   "source": [
    "get_classification_accuracy(sentiment_model,test_data,test_data['sentiment'])"
   ]
  },
  {
   "cell_type": "markdown",
   "metadata": {},
   "source": [
    "Next, we will compute the classification accuracy of the **simple_model** on the **test_data**:"
   ]
  },
  {
   "cell_type": "code",
   "execution_count": 182,
   "metadata": {
    "collapsed": false
   },
   "outputs": [
    {
     "data": {
      "text/plain": [
       "0.8693004559635229"
      ]
     },
     "execution_count": 182,
     "metadata": {},
     "output_type": "execute_result"
    }
   ],
   "source": [
    "get_classification_accuracy(simple_model,test_data,test_data['sentiment'])"
   ]
  },
  {
   "cell_type": "markdown",
   "metadata": {},
   "source": [
    "**Quiz Question**: Which model (**sentiment_model** or **simple_model**) has higher accuracy on the TEST set?"
   ]
  },
  {
   "cell_type": "markdown",
   "metadata": {},
   "source": [
    "## Baseline: Majority class prediction\n",
    "\n",
    "It is quite common to use the **majority class classifier** as the a baseline (or reference) model for comparison with your classifier model. The majority classifier model predicts the majority class for all data points. At the very least, you should healthily beat the majority class classifier, otherwise, the model is (usually) pointless.\n",
    "\n",
    "What is the majority class in the **train_data**?"
   ]
  },
  {
   "cell_type": "code",
   "execution_count": 187,
   "metadata": {
    "collapsed": false
   },
   "outputs": [
    {
     "name": "stdout",
     "output_type": "stream",
     "text": [
      "112164\n",
      "21252\n"
     ]
    }
   ],
   "source": [
    "num_positive  = (train_data['sentiment'] == +1).sum()\n",
    "num_negative = (train_data['sentiment'] == -1).sum()\n",
    "print num_positive\n",
    "print num_negative"
   ]
  },
  {
   "cell_type": "markdown",
   "metadata": {},
   "source": [
    "Now compute the accuracy of the majority class classifier on **test_data**.\n",
    "\n",
    "**Quiz Question**: Enter the accuracy of the majority class classifier model on the **test_data**. Round your answer to two decimal places (e.g. 0.76)."
   ]
  },
  {
   "cell_type": "code",
   "execution_count": 186,
   "metadata": {
    "collapsed": false,
    "scrolled": true
   },
   "outputs": [
    {
     "name": "stdout",
     "output_type": "stream",
     "text": [
      "28095\n",
      "5241\n"
     ]
    }
   ],
   "source": [
    "num_test_positive  = (test_data['sentiment'] == +1).sum()\n",
    "num_test_negative = (test_data['sentiment'] == -1).sum()\n",
    "print num_test_positive\n",
    "print num_test_negative"
   ]
  },
  {
   "cell_type": "markdown",
   "metadata": {},
   "source": [
    "**Quiz Question**: Is the **sentiment_model** definitely better than the majority class classifier (the baseline)?"
   ]
  }
 ],
 "metadata": {
  "kernelspec": {
   "display_name": "Python 2",
   "language": "python",
   "name": "python2"
  },
  "language_info": {
   "codemirror_mode": {
    "name": "ipython",
    "version": 2
   },
   "file_extension": ".py",
   "mimetype": "text/x-python",
   "name": "python",
   "nbconvert_exporter": "python",
   "pygments_lexer": "ipython2",
   "version": "2.7.10"
  }
 },
 "nbformat": 4,
 "nbformat_minor": 0
}
